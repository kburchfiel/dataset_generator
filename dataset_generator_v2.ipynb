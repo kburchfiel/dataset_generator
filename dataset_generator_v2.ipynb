{
 "metadata": {
  "language_info": {
   "codemirror_mode": {
    "name": "ipython",
    "version": 3
   },
   "file_extension": ".py",
   "mimetype": "text/x-python",
   "name": "python",
   "nbconvert_exporter": "python",
   "pygments_lexer": "ipython3",
   "version": "3.8.8"
  },
  "orig_nbformat": 2,
  "kernelspec": {
   "name": "python388jvsc74a57bd09b4cbb9f34865f18fa7166432772ddb71623c1351704ce581928cc7515bbbf22",
   "display_name": "Python 3.8.8 64-bit ('base': conda)"
  }
 },
 "nbformat": 4,
 "nbformat_minor": 2,
 "cells": [
  {
   "source": [
    "## Dataset Generator\n",
    "\n",
    "A tool for creating fictional data in Python for data analytics practice\n",
    "\n",
    "Kenneth Burchfiel\n",
    "\n",
    "First uploaded to GitHub on 2021-4-3; revised since\n",
    "\n",
    "(Code is released under the MIT license; the resulting happiness.csv file is released into the public domain)"
   ],
   "cell_type": "markdown",
   "metadata": {}
  },
  {
   "source": [
    "In this program, I will use Python to create a fictional dataset showing the results of a happiness survey with 1600 participants. The purpose of this dataset is to provide a 'clean' and public-domain set of data for data analytics practice.\n",
    "\n",
    "The dependent variable in this survey is a self-reported happiness score; the independent variables are 14 factors (gender, income, etc.) that may or may not correlate with happiness. The formula used to calculate happiness makes use of variable weights that the user can easily modify; these weights help determine how important each of the 14 variables appears in a regression analysis. \n",
    "\n",
    "One of the 14 independent variables (income) can serve as a dependent variable on its own, and like the happiness variable, its values are determined in part by user-specified variable weights. \n",
    "\n",
    "The program makes liberal use of numpy's random number functions in order to simulate a more realistic range of responses.\n",
    "\n",
    "At the end of the program, I demonstrate a formula that appears to explain, at least in some cases, the relationship between the specified variable weights and the regression coefficients of those variables. This formula provides evidence that changing the weight of a variable has an impact on its resulting coefficient, although this impact is mitigated for lower weights and higher amounts of random variation.\n",
    "\n",
    "Special thanks to Columbia Business School professors Mattan Griffel and David Guetta for inspiring me to use Python rather than Excel to create fictional datasets.\n",
    "\n"
   ],
   "cell_type": "markdown",
   "metadata": {}
  },
  {
   "source": [
    "## Note: \n",
    "This notebook is still a rough draft; I plan to provide additional explanations of the code and make other changes."
   ],
   "cell_type": "markdown",
   "metadata": {}
  },
  {
   "cell_type": "code",
   "execution_count": 1,
   "metadata": {},
   "outputs": [],
   "source": [
    "import pandas as pd\n",
    "import numpy as np\n",
    "import statsmodels.api as sm"
   ]
  },
  {
   "cell_type": "code",
   "execution_count": 2,
   "metadata": {},
   "outputs": [
    {
     "output_type": "execute_result",
     "data": {
      "text/plain": [
       "['0_female',\n",
       " '1_age',\n",
       " '2_num_chronic',\n",
       " '3_married',\n",
       " '4_urban',\n",
       " '5_hours_tv',\n",
       " '6_hours_sm',\n",
       " '7_num_sunny',\n",
       " '8_avg_temp',\n",
       " '9_close_friends',\n",
       " '10_worship_days',\n",
       " '11_years_edu',\n",
       " '12_employed_ft',\n",
       " '13_income',\n",
       " '14_happiness']"
      ]
     },
     "metadata": {},
     "execution_count": 2
    }
   ],
   "source": [
    "id_list = [] # Will store the index numbers for the DataFrame\n",
    "for i in range (1, 1601):\n",
    "    id_list.append(i)\n",
    "\n",
    "columns_list = ['female', 'age', 'num_chronic', 'married', 'urban', 'hours_tv', 'hours_sm', 'num_sunny', 'avg_temp', 'close_friends', 'worship_days', 'years_edu', 'employed_ft', 'income', 'happiness']\n",
    "\n",
    "# The following for loop appends an index number to each item in the columns list. This will make it easier to create functions that use .iloc, as the column number will be present within the column. The benefit of doing this step separately from initializing the column list above is that, in the event the columns list is reordered, the numbers will not need to be changed manually.\n",
    "for i in range (len(columns_list)):\n",
    "    columns_list[i] = str(i)+\"_\"+columns_list[i]\n",
    "\n",
    "columns_list\n"
   ]
  },
  {
   "cell_type": "code",
   "execution_count": 3,
   "metadata": {},
   "outputs": [
    {
     "output_type": "execute_result",
     "data": {
      "text/plain": [
       "     0_female 1_age 2_num_chronic 3_married 4_urban 5_hours_tv 6_hours_sm  \\\n",
       "id                                                                          \n",
       "1         NaN   NaN           NaN       NaN     NaN        NaN        NaN   \n",
       "2         NaN   NaN           NaN       NaN     NaN        NaN        NaN   \n",
       "3         NaN   NaN           NaN       NaN     NaN        NaN        NaN   \n",
       "4         NaN   NaN           NaN       NaN     NaN        NaN        NaN   \n",
       "5         NaN   NaN           NaN       NaN     NaN        NaN        NaN   \n",
       "...       ...   ...           ...       ...     ...        ...        ...   \n",
       "1596      NaN   NaN           NaN       NaN     NaN        NaN        NaN   \n",
       "1597      NaN   NaN           NaN       NaN     NaN        NaN        NaN   \n",
       "1598      NaN   NaN           NaN       NaN     NaN        NaN        NaN   \n",
       "1599      NaN   NaN           NaN       NaN     NaN        NaN        NaN   \n",
       "1600      NaN   NaN           NaN       NaN     NaN        NaN        NaN   \n",
       "\n",
       "     7_num_sunny 8_avg_temp 9_close_friends 10_worship_days 11_years_edu  \\\n",
       "id                                                                         \n",
       "1            NaN        NaN             NaN             NaN          NaN   \n",
       "2            NaN        NaN             NaN             NaN          NaN   \n",
       "3            NaN        NaN             NaN             NaN          NaN   \n",
       "4            NaN        NaN             NaN             NaN          NaN   \n",
       "5            NaN        NaN             NaN             NaN          NaN   \n",
       "...          ...        ...             ...             ...          ...   \n",
       "1596         NaN        NaN             NaN             NaN          NaN   \n",
       "1597         NaN        NaN             NaN             NaN          NaN   \n",
       "1598         NaN        NaN             NaN             NaN          NaN   \n",
       "1599         NaN        NaN             NaN             NaN          NaN   \n",
       "1600         NaN        NaN             NaN             NaN          NaN   \n",
       "\n",
       "     12_employed_ft 13_income 14_happiness  \n",
       "id                                          \n",
       "1               NaN       NaN          NaN  \n",
       "2               NaN       NaN          NaN  \n",
       "3               NaN       NaN          NaN  \n",
       "4               NaN       NaN          NaN  \n",
       "5               NaN       NaN          NaN  \n",
       "...             ...       ...          ...  \n",
       "1596            NaN       NaN          NaN  \n",
       "1597            NaN       NaN          NaN  \n",
       "1598            NaN       NaN          NaN  \n",
       "1599            NaN       NaN          NaN  \n",
       "1600            NaN       NaN          NaN  \n",
       "\n",
       "[1600 rows x 15 columns]"
      ],
      "text/html": "<div>\n<style scoped>\n    .dataframe tbody tr th:only-of-type {\n        vertical-align: middle;\n    }\n\n    .dataframe tbody tr th {\n        vertical-align: top;\n    }\n\n    .dataframe thead th {\n        text-align: right;\n    }\n</style>\n<table border=\"1\" class=\"dataframe\">\n  <thead>\n    <tr style=\"text-align: right;\">\n      <th></th>\n      <th>0_female</th>\n      <th>1_age</th>\n      <th>2_num_chronic</th>\n      <th>3_married</th>\n      <th>4_urban</th>\n      <th>5_hours_tv</th>\n      <th>6_hours_sm</th>\n      <th>7_num_sunny</th>\n      <th>8_avg_temp</th>\n      <th>9_close_friends</th>\n      <th>10_worship_days</th>\n      <th>11_years_edu</th>\n      <th>12_employed_ft</th>\n      <th>13_income</th>\n      <th>14_happiness</th>\n    </tr>\n    <tr>\n      <th>id</th>\n      <th></th>\n      <th></th>\n      <th></th>\n      <th></th>\n      <th></th>\n      <th></th>\n      <th></th>\n      <th></th>\n      <th></th>\n      <th></th>\n      <th></th>\n      <th></th>\n      <th></th>\n      <th></th>\n      <th></th>\n    </tr>\n  </thead>\n  <tbody>\n    <tr>\n      <th>1</th>\n      <td>NaN</td>\n      <td>NaN</td>\n      <td>NaN</td>\n      <td>NaN</td>\n      <td>NaN</td>\n      <td>NaN</td>\n      <td>NaN</td>\n      <td>NaN</td>\n      <td>NaN</td>\n      <td>NaN</td>\n      <td>NaN</td>\n      <td>NaN</td>\n      <td>NaN</td>\n      <td>NaN</td>\n      <td>NaN</td>\n    </tr>\n    <tr>\n      <th>2</th>\n      <td>NaN</td>\n      <td>NaN</td>\n      <td>NaN</td>\n      <td>NaN</td>\n      <td>NaN</td>\n      <td>NaN</td>\n      <td>NaN</td>\n      <td>NaN</td>\n      <td>NaN</td>\n      <td>NaN</td>\n      <td>NaN</td>\n      <td>NaN</td>\n      <td>NaN</td>\n      <td>NaN</td>\n      <td>NaN</td>\n    </tr>\n    <tr>\n      <th>3</th>\n      <td>NaN</td>\n      <td>NaN</td>\n      <td>NaN</td>\n      <td>NaN</td>\n      <td>NaN</td>\n      <td>NaN</td>\n      <td>NaN</td>\n      <td>NaN</td>\n      <td>NaN</td>\n      <td>NaN</td>\n      <td>NaN</td>\n      <td>NaN</td>\n      <td>NaN</td>\n      <td>NaN</td>\n      <td>NaN</td>\n    </tr>\n    <tr>\n      <th>4</th>\n      <td>NaN</td>\n      <td>NaN</td>\n      <td>NaN</td>\n      <td>NaN</td>\n      <td>NaN</td>\n      <td>NaN</td>\n      <td>NaN</td>\n      <td>NaN</td>\n      <td>NaN</td>\n      <td>NaN</td>\n      <td>NaN</td>\n      <td>NaN</td>\n      <td>NaN</td>\n      <td>NaN</td>\n      <td>NaN</td>\n    </tr>\n    <tr>\n      <th>5</th>\n      <td>NaN</td>\n      <td>NaN</td>\n      <td>NaN</td>\n      <td>NaN</td>\n      <td>NaN</td>\n      <td>NaN</td>\n      <td>NaN</td>\n      <td>NaN</td>\n      <td>NaN</td>\n      <td>NaN</td>\n      <td>NaN</td>\n      <td>NaN</td>\n      <td>NaN</td>\n      <td>NaN</td>\n      <td>NaN</td>\n    </tr>\n    <tr>\n      <th>...</th>\n      <td>...</td>\n      <td>...</td>\n      <td>...</td>\n      <td>...</td>\n      <td>...</td>\n      <td>...</td>\n      <td>...</td>\n      <td>...</td>\n      <td>...</td>\n      <td>...</td>\n      <td>...</td>\n      <td>...</td>\n      <td>...</td>\n      <td>...</td>\n      <td>...</td>\n    </tr>\n    <tr>\n      <th>1596</th>\n      <td>NaN</td>\n      <td>NaN</td>\n      <td>NaN</td>\n      <td>NaN</td>\n      <td>NaN</td>\n      <td>NaN</td>\n      <td>NaN</td>\n      <td>NaN</td>\n      <td>NaN</td>\n      <td>NaN</td>\n      <td>NaN</td>\n      <td>NaN</td>\n      <td>NaN</td>\n      <td>NaN</td>\n      <td>NaN</td>\n    </tr>\n    <tr>\n      <th>1597</th>\n      <td>NaN</td>\n      <td>NaN</td>\n      <td>NaN</td>\n      <td>NaN</td>\n      <td>NaN</td>\n      <td>NaN</td>\n      <td>NaN</td>\n      <td>NaN</td>\n      <td>NaN</td>\n      <td>NaN</td>\n      <td>NaN</td>\n      <td>NaN</td>\n      <td>NaN</td>\n      <td>NaN</td>\n      <td>NaN</td>\n    </tr>\n    <tr>\n      <th>1598</th>\n      <td>NaN</td>\n      <td>NaN</td>\n      <td>NaN</td>\n      <td>NaN</td>\n      <td>NaN</td>\n      <td>NaN</td>\n      <td>NaN</td>\n      <td>NaN</td>\n      <td>NaN</td>\n      <td>NaN</td>\n      <td>NaN</td>\n      <td>NaN</td>\n      <td>NaN</td>\n      <td>NaN</td>\n      <td>NaN</td>\n    </tr>\n    <tr>\n      <th>1599</th>\n      <td>NaN</td>\n      <td>NaN</td>\n      <td>NaN</td>\n      <td>NaN</td>\n      <td>NaN</td>\n      <td>NaN</td>\n      <td>NaN</td>\n      <td>NaN</td>\n      <td>NaN</td>\n      <td>NaN</td>\n      <td>NaN</td>\n      <td>NaN</td>\n      <td>NaN</td>\n      <td>NaN</td>\n      <td>NaN</td>\n    </tr>\n    <tr>\n      <th>1600</th>\n      <td>NaN</td>\n      <td>NaN</td>\n      <td>NaN</td>\n      <td>NaN</td>\n      <td>NaN</td>\n      <td>NaN</td>\n      <td>NaN</td>\n      <td>NaN</td>\n      <td>NaN</td>\n      <td>NaN</td>\n      <td>NaN</td>\n      <td>NaN</td>\n      <td>NaN</td>\n      <td>NaN</td>\n      <td>NaN</td>\n    </tr>\n  </tbody>\n</table>\n<p>1600 rows × 15 columns</p>\n</div>"
     },
     "metadata": {},
     "execution_count": 3
    }
   ],
   "source": [
    "df = pd.DataFrame(columns = columns_list, index = id_list)\n",
    "df.index.name = 'id' # based on this StackOverflow answer by Jeff: https://stackoverflow.com/a/18023468/13097194 also present in the Pandas 0.13.1 documentation: https://pandas.pydata.org/pandas-docs/version/0.13.1/indexing.html\n",
    "df"
   ]
  },
  {
   "cell_type": "code",
   "execution_count": 4,
   "metadata": {},
   "outputs": [
    {
     "output_type": "execute_result",
     "data": {
      "text/plain": [
       "     0_female 1_age 2_num_chronic 3_married 4_urban 5_hours_tv 6_hours_sm  \\\n",
       "id                                                                          \n",
       "1         NaN   NaN           NaN       NaN     NaN        NaN        NaN   \n",
       "2         NaN   NaN           NaN       NaN     NaN        NaN        NaN   \n",
       "3         NaN   NaN           NaN       NaN     NaN        NaN        NaN   \n",
       "4         NaN   NaN           NaN       NaN     NaN        NaN        NaN   \n",
       "5         NaN   NaN           NaN       NaN     NaN        NaN        NaN   \n",
       "...       ...   ...           ...       ...     ...        ...        ...   \n",
       "1596      NaN   NaN           NaN       NaN     NaN        NaN        NaN   \n",
       "1597      NaN   NaN           NaN       NaN     NaN        NaN        NaN   \n",
       "1598      NaN   NaN           NaN       NaN     NaN        NaN        NaN   \n",
       "1599      NaN   NaN           NaN       NaN     NaN        NaN        NaN   \n",
       "1600      NaN   NaN           NaN       NaN     NaN        NaN        NaN   \n",
       "\n",
       "     7_num_sunny 8_avg_temp 9_close_friends 10_worship_days 11_years_edu  \\\n",
       "id                                                                         \n",
       "1            NaN        NaN             NaN             NaN          NaN   \n",
       "2            NaN        NaN             NaN             NaN          NaN   \n",
       "3            NaN        NaN             NaN             NaN          NaN   \n",
       "4            NaN        NaN             NaN             NaN          NaN   \n",
       "5            NaN        NaN             NaN             NaN          NaN   \n",
       "...          ...        ...             ...             ...          ...   \n",
       "1596         NaN        NaN             NaN             NaN          NaN   \n",
       "1597         NaN        NaN             NaN             NaN          NaN   \n",
       "1598         NaN        NaN             NaN             NaN          NaN   \n",
       "1599         NaN        NaN             NaN             NaN          NaN   \n",
       "1600         NaN        NaN             NaN             NaN          NaN   \n",
       "\n",
       "     12_employed_ft 13_income 14_happiness  \n",
       "id                                          \n",
       "1               NaN       NaN          NaN  \n",
       "2               NaN       NaN          NaN  \n",
       "3               NaN       NaN          NaN  \n",
       "4               NaN       NaN          NaN  \n",
       "5               NaN       NaN          NaN  \n",
       "...             ...       ...          ...  \n",
       "1596            NaN       NaN          NaN  \n",
       "1597            NaN       NaN          NaN  \n",
       "1598            NaN       NaN          NaN  \n",
       "1599            NaN       NaN          NaN  \n",
       "1600            NaN       NaN          NaN  \n",
       "\n",
       "[1600 rows x 15 columns]"
      ],
      "text/html": "<div>\n<style scoped>\n    .dataframe tbody tr th:only-of-type {\n        vertical-align: middle;\n    }\n\n    .dataframe tbody tr th {\n        vertical-align: top;\n    }\n\n    .dataframe thead th {\n        text-align: right;\n    }\n</style>\n<table border=\"1\" class=\"dataframe\">\n  <thead>\n    <tr style=\"text-align: right;\">\n      <th></th>\n      <th>0_female</th>\n      <th>1_age</th>\n      <th>2_num_chronic</th>\n      <th>3_married</th>\n      <th>4_urban</th>\n      <th>5_hours_tv</th>\n      <th>6_hours_sm</th>\n      <th>7_num_sunny</th>\n      <th>8_avg_temp</th>\n      <th>9_close_friends</th>\n      <th>10_worship_days</th>\n      <th>11_years_edu</th>\n      <th>12_employed_ft</th>\n      <th>13_income</th>\n      <th>14_happiness</th>\n    </tr>\n    <tr>\n      <th>id</th>\n      <th></th>\n      <th></th>\n      <th></th>\n      <th></th>\n      <th></th>\n      <th></th>\n      <th></th>\n      <th></th>\n      <th></th>\n      <th></th>\n      <th></th>\n      <th></th>\n      <th></th>\n      <th></th>\n      <th></th>\n    </tr>\n  </thead>\n  <tbody>\n    <tr>\n      <th>1</th>\n      <td>NaN</td>\n      <td>NaN</td>\n      <td>NaN</td>\n      <td>NaN</td>\n      <td>NaN</td>\n      <td>NaN</td>\n      <td>NaN</td>\n      <td>NaN</td>\n      <td>NaN</td>\n      <td>NaN</td>\n      <td>NaN</td>\n      <td>NaN</td>\n      <td>NaN</td>\n      <td>NaN</td>\n      <td>NaN</td>\n    </tr>\n    <tr>\n      <th>2</th>\n      <td>NaN</td>\n      <td>NaN</td>\n      <td>NaN</td>\n      <td>NaN</td>\n      <td>NaN</td>\n      <td>NaN</td>\n      <td>NaN</td>\n      <td>NaN</td>\n      <td>NaN</td>\n      <td>NaN</td>\n      <td>NaN</td>\n      <td>NaN</td>\n      <td>NaN</td>\n      <td>NaN</td>\n      <td>NaN</td>\n    </tr>\n    <tr>\n      <th>3</th>\n      <td>NaN</td>\n      <td>NaN</td>\n      <td>NaN</td>\n      <td>NaN</td>\n      <td>NaN</td>\n      <td>NaN</td>\n      <td>NaN</td>\n      <td>NaN</td>\n      <td>NaN</td>\n      <td>NaN</td>\n      <td>NaN</td>\n      <td>NaN</td>\n      <td>NaN</td>\n      <td>NaN</td>\n      <td>NaN</td>\n    </tr>\n    <tr>\n      <th>4</th>\n      <td>NaN</td>\n      <td>NaN</td>\n      <td>NaN</td>\n      <td>NaN</td>\n      <td>NaN</td>\n      <td>NaN</td>\n      <td>NaN</td>\n      <td>NaN</td>\n      <td>NaN</td>\n      <td>NaN</td>\n      <td>NaN</td>\n      <td>NaN</td>\n      <td>NaN</td>\n      <td>NaN</td>\n      <td>NaN</td>\n    </tr>\n    <tr>\n      <th>5</th>\n      <td>NaN</td>\n      <td>NaN</td>\n      <td>NaN</td>\n      <td>NaN</td>\n      <td>NaN</td>\n      <td>NaN</td>\n      <td>NaN</td>\n      <td>NaN</td>\n      <td>NaN</td>\n      <td>NaN</td>\n      <td>NaN</td>\n      <td>NaN</td>\n      <td>NaN</td>\n      <td>NaN</td>\n      <td>NaN</td>\n    </tr>\n    <tr>\n      <th>...</th>\n      <td>...</td>\n      <td>...</td>\n      <td>...</td>\n      <td>...</td>\n      <td>...</td>\n      <td>...</td>\n      <td>...</td>\n      <td>...</td>\n      <td>...</td>\n      <td>...</td>\n      <td>...</td>\n      <td>...</td>\n      <td>...</td>\n      <td>...</td>\n      <td>...</td>\n    </tr>\n    <tr>\n      <th>1596</th>\n      <td>NaN</td>\n      <td>NaN</td>\n      <td>NaN</td>\n      <td>NaN</td>\n      <td>NaN</td>\n      <td>NaN</td>\n      <td>NaN</td>\n      <td>NaN</td>\n      <td>NaN</td>\n      <td>NaN</td>\n      <td>NaN</td>\n      <td>NaN</td>\n      <td>NaN</td>\n      <td>NaN</td>\n      <td>NaN</td>\n    </tr>\n    <tr>\n      <th>1597</th>\n      <td>NaN</td>\n      <td>NaN</td>\n      <td>NaN</td>\n      <td>NaN</td>\n      <td>NaN</td>\n      <td>NaN</td>\n      <td>NaN</td>\n      <td>NaN</td>\n      <td>NaN</td>\n      <td>NaN</td>\n      <td>NaN</td>\n      <td>NaN</td>\n      <td>NaN</td>\n      <td>NaN</td>\n      <td>NaN</td>\n    </tr>\n    <tr>\n      <th>1598</th>\n      <td>NaN</td>\n      <td>NaN</td>\n      <td>NaN</td>\n      <td>NaN</td>\n      <td>NaN</td>\n      <td>NaN</td>\n      <td>NaN</td>\n      <td>NaN</td>\n      <td>NaN</td>\n      <td>NaN</td>\n      <td>NaN</td>\n      <td>NaN</td>\n      <td>NaN</td>\n      <td>NaN</td>\n      <td>NaN</td>\n    </tr>\n    <tr>\n      <th>1599</th>\n      <td>NaN</td>\n      <td>NaN</td>\n      <td>NaN</td>\n      <td>NaN</td>\n      <td>NaN</td>\n      <td>NaN</td>\n      <td>NaN</td>\n      <td>NaN</td>\n      <td>NaN</td>\n      <td>NaN</td>\n      <td>NaN</td>\n      <td>NaN</td>\n      <td>NaN</td>\n      <td>NaN</td>\n      <td>NaN</td>\n    </tr>\n    <tr>\n      <th>1600</th>\n      <td>NaN</td>\n      <td>NaN</td>\n      <td>NaN</td>\n      <td>NaN</td>\n      <td>NaN</td>\n      <td>NaN</td>\n      <td>NaN</td>\n      <td>NaN</td>\n      <td>NaN</td>\n      <td>NaN</td>\n      <td>NaN</td>\n      <td>NaN</td>\n      <td>NaN</td>\n      <td>NaN</td>\n      <td>NaN</td>\n    </tr>\n  </tbody>\n</table>\n<p>1600 rows × 15 columns</p>\n</div>"
     },
     "metadata": {},
     "execution_count": 4
    }
   ],
   "source": [
    "df"
   ]
  },
  {
   "cell_type": "code",
   "execution_count": 5,
   "metadata": {},
   "outputs": [],
   "source": [
    "rng = np.random.default_rng(1337)"
   ]
  },
  {
   "cell_type": "code",
   "execution_count": 6,
   "metadata": {},
   "outputs": [
    {
     "output_type": "execute_result",
     "data": {
      "text/plain": [
       "     0_female 1_age 2_num_chronic 3_married 4_urban 5_hours_tv 6_hours_sm  \\\n",
       "id                                                                          \n",
       "1           1    50             1         1       1        7.2        7.9   \n",
       "2           1    68             4         0       0        7.0        5.5   \n",
       "3           1    60             5         0       1       11.4        7.0   \n",
       "4           0    24             3         0       0       13.1        5.7   \n",
       "5           1    30             1         1       0        6.1        1.7   \n",
       "...       ...   ...           ...       ...     ...        ...        ...   \n",
       "1596        1    20             2         1       1        6.1        9.7   \n",
       "1597        1    75             3         0       1        8.9        5.2   \n",
       "1598        1    29             0         0       1        4.5        5.4   \n",
       "1599        1    77             0         0       1        7.5        5.1   \n",
       "1600        0    21             0         0       1        6.7        4.0   \n",
       "\n",
       "     7_num_sunny 8_avg_temp 9_close_friends 10_worship_days 11_years_edu  \\\n",
       "id                                                                         \n",
       "1            136       55.6               8              78           12   \n",
       "2            104       54.9               7              22           16   \n",
       "3            132       60.0               8              55           20   \n",
       "4            139       56.7               5               0           10   \n",
       "5            108       64.2               0              73           10   \n",
       "...          ...        ...             ...             ...          ...   \n",
       "1596         105       51.3               7              55           18   \n",
       "1597          86       59.9               2              43           18   \n",
       "1598         137       53.5               6              61           16   \n",
       "1599         143       57.4               0               4           10   \n",
       "1600         140       59.7               2              38           10   \n",
       "\n",
       "     12_employed_ft 13_income 14_happiness  \n",
       "id                                          \n",
       "1                 1       NaN          NaN  \n",
       "2                 0       NaN          NaN  \n",
       "3                 1       NaN          NaN  \n",
       "4                 1       NaN          NaN  \n",
       "5                 1       NaN          NaN  \n",
       "...             ...       ...          ...  \n",
       "1596              1       NaN          NaN  \n",
       "1597              1       NaN          NaN  \n",
       "1598              1       NaN          NaN  \n",
       "1599              0       NaN          NaN  \n",
       "1600              1       NaN          NaN  \n",
       "\n",
       "[1600 rows x 15 columns]"
      ],
      "text/html": "<div>\n<style scoped>\n    .dataframe tbody tr th:only-of-type {\n        vertical-align: middle;\n    }\n\n    .dataframe tbody tr th {\n        vertical-align: top;\n    }\n\n    .dataframe thead th {\n        text-align: right;\n    }\n</style>\n<table border=\"1\" class=\"dataframe\">\n  <thead>\n    <tr style=\"text-align: right;\">\n      <th></th>\n      <th>0_female</th>\n      <th>1_age</th>\n      <th>2_num_chronic</th>\n      <th>3_married</th>\n      <th>4_urban</th>\n      <th>5_hours_tv</th>\n      <th>6_hours_sm</th>\n      <th>7_num_sunny</th>\n      <th>8_avg_temp</th>\n      <th>9_close_friends</th>\n      <th>10_worship_days</th>\n      <th>11_years_edu</th>\n      <th>12_employed_ft</th>\n      <th>13_income</th>\n      <th>14_happiness</th>\n    </tr>\n    <tr>\n      <th>id</th>\n      <th></th>\n      <th></th>\n      <th></th>\n      <th></th>\n      <th></th>\n      <th></th>\n      <th></th>\n      <th></th>\n      <th></th>\n      <th></th>\n      <th></th>\n      <th></th>\n      <th></th>\n      <th></th>\n      <th></th>\n    </tr>\n  </thead>\n  <tbody>\n    <tr>\n      <th>1</th>\n      <td>1</td>\n      <td>50</td>\n      <td>1</td>\n      <td>1</td>\n      <td>1</td>\n      <td>7.2</td>\n      <td>7.9</td>\n      <td>136</td>\n      <td>55.6</td>\n      <td>8</td>\n      <td>78</td>\n      <td>12</td>\n      <td>1</td>\n      <td>NaN</td>\n      <td>NaN</td>\n    </tr>\n    <tr>\n      <th>2</th>\n      <td>1</td>\n      <td>68</td>\n      <td>4</td>\n      <td>0</td>\n      <td>0</td>\n      <td>7.0</td>\n      <td>5.5</td>\n      <td>104</td>\n      <td>54.9</td>\n      <td>7</td>\n      <td>22</td>\n      <td>16</td>\n      <td>0</td>\n      <td>NaN</td>\n      <td>NaN</td>\n    </tr>\n    <tr>\n      <th>3</th>\n      <td>1</td>\n      <td>60</td>\n      <td>5</td>\n      <td>0</td>\n      <td>1</td>\n      <td>11.4</td>\n      <td>7.0</td>\n      <td>132</td>\n      <td>60.0</td>\n      <td>8</td>\n      <td>55</td>\n      <td>20</td>\n      <td>1</td>\n      <td>NaN</td>\n      <td>NaN</td>\n    </tr>\n    <tr>\n      <th>4</th>\n      <td>0</td>\n      <td>24</td>\n      <td>3</td>\n      <td>0</td>\n      <td>0</td>\n      <td>13.1</td>\n      <td>5.7</td>\n      <td>139</td>\n      <td>56.7</td>\n      <td>5</td>\n      <td>0</td>\n      <td>10</td>\n      <td>1</td>\n      <td>NaN</td>\n      <td>NaN</td>\n    </tr>\n    <tr>\n      <th>5</th>\n      <td>1</td>\n      <td>30</td>\n      <td>1</td>\n      <td>1</td>\n      <td>0</td>\n      <td>6.1</td>\n      <td>1.7</td>\n      <td>108</td>\n      <td>64.2</td>\n      <td>0</td>\n      <td>73</td>\n      <td>10</td>\n      <td>1</td>\n      <td>NaN</td>\n      <td>NaN</td>\n    </tr>\n    <tr>\n      <th>...</th>\n      <td>...</td>\n      <td>...</td>\n      <td>...</td>\n      <td>...</td>\n      <td>...</td>\n      <td>...</td>\n      <td>...</td>\n      <td>...</td>\n      <td>...</td>\n      <td>...</td>\n      <td>...</td>\n      <td>...</td>\n      <td>...</td>\n      <td>...</td>\n      <td>...</td>\n    </tr>\n    <tr>\n      <th>1596</th>\n      <td>1</td>\n      <td>20</td>\n      <td>2</td>\n      <td>1</td>\n      <td>1</td>\n      <td>6.1</td>\n      <td>9.7</td>\n      <td>105</td>\n      <td>51.3</td>\n      <td>7</td>\n      <td>55</td>\n      <td>18</td>\n      <td>1</td>\n      <td>NaN</td>\n      <td>NaN</td>\n    </tr>\n    <tr>\n      <th>1597</th>\n      <td>1</td>\n      <td>75</td>\n      <td>3</td>\n      <td>0</td>\n      <td>1</td>\n      <td>8.9</td>\n      <td>5.2</td>\n      <td>86</td>\n      <td>59.9</td>\n      <td>2</td>\n      <td>43</td>\n      <td>18</td>\n      <td>1</td>\n      <td>NaN</td>\n      <td>NaN</td>\n    </tr>\n    <tr>\n      <th>1598</th>\n      <td>1</td>\n      <td>29</td>\n      <td>0</td>\n      <td>0</td>\n      <td>1</td>\n      <td>4.5</td>\n      <td>5.4</td>\n      <td>137</td>\n      <td>53.5</td>\n      <td>6</td>\n      <td>61</td>\n      <td>16</td>\n      <td>1</td>\n      <td>NaN</td>\n      <td>NaN</td>\n    </tr>\n    <tr>\n      <th>1599</th>\n      <td>1</td>\n      <td>77</td>\n      <td>0</td>\n      <td>0</td>\n      <td>1</td>\n      <td>7.5</td>\n      <td>5.1</td>\n      <td>143</td>\n      <td>57.4</td>\n      <td>0</td>\n      <td>4</td>\n      <td>10</td>\n      <td>0</td>\n      <td>NaN</td>\n      <td>NaN</td>\n    </tr>\n    <tr>\n      <th>1600</th>\n      <td>0</td>\n      <td>21</td>\n      <td>0</td>\n      <td>0</td>\n      <td>1</td>\n      <td>6.7</td>\n      <td>4.0</td>\n      <td>140</td>\n      <td>59.7</td>\n      <td>2</td>\n      <td>38</td>\n      <td>10</td>\n      <td>1</td>\n      <td>NaN</td>\n      <td>NaN</td>\n    </tr>\n  </tbody>\n</table>\n<p>1600 rows × 15 columns</p>\n</div>"
     },
     "metadata": {},
     "execution_count": 6
    }
   ],
   "source": [
    "# Variable 0 initialization\n",
    "for i in range (0, len(df)): \n",
    "    df.iloc[i, 0] = rng.integers(0,2) # Returns either 0 or 1. See https://numpy.org/doc/stable/reference/random/generated/numpy.random.Generator.integers.html\n",
    "    \n",
    "# Variable 1 initialization\n",
    "for i in range (0, len(df)): \n",
    "    df.iloc[i,1] = rng.integers(20,81) \n",
    "    # As noted by the documentation, a single integer will be returned if size is not specified, which is preferable to specifying a size of 1, which returns a one-integer list.\n",
    "    \n",
    "# Variable 2 initialization\n",
    "for i in range (0, len(df)): \n",
    "    df.iloc[i,2] = rng.integers(0,6) \n",
    "\n",
    "# Variable 3 initialization\n",
    "for i in range (0, len(df)): \n",
    "    df.iloc[i,3] = rng.integers(0,2) \n",
    "\n",
    "# Variable 4 initialization\n",
    "for i in range (0, len(df)): \n",
    "    if rng.random() > 0.3: # https://numpy.org/doc/stable/reference/random/generated/numpy.random.Generator.random.html?highlight=rng%20random\n",
    "    # Used instead of rng.integers(0,2) becasue I want about 70% of the results to be 1 (for 'urban') \n",
    "        df.iloc[i,4] = 1\n",
    "    else:\n",
    "        df.iloc[i,4] = 0\n",
    "\n",
    "# Variable 5 initialization\n",
    "for i in range (0, len(df)):\n",
    "    df.iloc[i,5] = round(max(rng.normal(10,4),0),1) # Returns either (1) a random number on a normally distributed curve with a mean of 10 and a standard deviation of 4 or (2) 0 (since it would not make sense to watch negative hours of TV per week), then rounds it to the nearest decimal point.\n",
    "\n",
    "# Variable 6 initialization\n",
    "for i in range (0, len(df)):\n",
    "    df.iloc[i,6] = round(max(rng.normal(5,2),0),1)\n",
    "\n",
    "\n",
    "# Variable 7 initialization\n",
    "for i in range (0, len(df)):\n",
    "    df.iloc[i,7] = round(min(max(rng.normal(120,20),0),365)) # The inclusion of min() and max() in this code ensure that the final result will be greater than or equal to 0 but less than or equal to 365.\n",
    "\n",
    "# Variable 8 initialization\n",
    "for i in range (0, len(df)):\n",
    "    df.iloc[i,8] = round(rng.normal(55,5),1) # The inclusion of min() and max() in this code ensure that the final result will be greater than or equal to 0 but less than or equal to 365.\n",
    "\n",
    "# Variable 9 initialization\n",
    "for i in range (0, len(df)):\n",
    "    df.iloc[i,9] = rng.integers(0,6)+df.iloc[i,0]*rng.integers(0,6)\n",
    "    # This is the first variable to be partially dependent on another variable. Each person is assigned 0 to 5 close friends; however, if the person is female, she will be assigned another 0 to 5 close friends. This creates a correlation between gender and number of close friends.\n",
    "\n",
    "# Variable 10 initialization\n",
    "for i in range (0, len(df)):\n",
    "    df.iloc[i,10] = round(min(max(rng.normal(30,26)+df.iloc[i,0]*rng.normal(30,26),0),365))\n",
    "\n",
    "\n",
    "# Variable 11 initialization\n",
    "for i in range (0, len(df)):\n",
    "    df.iloc[i,11]=2*min(5+rng.integers(0,6)+df.iloc[i,0]*rng.integers(0,2),11) # I wanted all years of education to be even, so I made the input values half the desired size and then doubled them.\n",
    "\n",
    "# Variable 12 initialization\n",
    "for i in range (0, len(df)):\n",
    "    if (rng.random()+(df.iloc[i,11]-12)*0.01)>0.3:\n",
    "        df.iloc[i,12] = 1\n",
    "    else:\n",
    "        df.iloc[i,12] = 0\n",
    "\n",
    "df"
   ]
  },
  {
   "cell_type": "code",
   "execution_count": 7,
   "metadata": {},
   "outputs": [
    {
     "output_type": "execute_result",
     "data": {
      "text/plain": [
       "0_female           object\n",
       "1_age              object\n",
       "2_num_chronic      object\n",
       "3_married          object\n",
       "4_urban            object\n",
       "5_hours_tv         object\n",
       "6_hours_sm         object\n",
       "7_num_sunny        object\n",
       "8_avg_temp         object\n",
       "9_close_friends    object\n",
       "10_worship_days    object\n",
       "11_years_edu       object\n",
       "12_employed_ft     object\n",
       "13_income          object\n",
       "14_happiness       object\n",
       "dtype: object"
      ]
     },
     "metadata": {},
     "execution_count": 7
    }
   ],
   "source": [
    "df.dtypes"
   ]
  },
  {
   "source": [
    "The values for the next variable (income) will be based off the sum of a set of products of other independent variables and those variables' weights. This is a similar approach to making predictions using a linear regression output. In that scenario, given variables A, B, and C whose coefficients are X, Y, and Z, respectively, the dependent variable would be predicted as A*X + B*Y + C*Z (plus an intercept). In this case, the math is similar, but we are generating actual variable values rather than predicting them. \n",
    "\n",
    "This raises the question, however, of what multiplier to use for each variable. The easiest approach would be to use a multiplier of 1 for all independent variables. However, this approach is not ideal, since I want to give different variables different weights to reflect their different contribution to income. In addition, it is necessary to adjust the multipliers to offset the variation in means across variables. Without this offset, values with high mean values (like age) would contribute much more to income than values with low means (such as binary variables like female, married, and urban).\n",
    "\n",
    "To calculate these multipliers, I chose to create a second DataFrame (df_weights) containing (1) each variable's mean; (2) each variable's desired weight in the income calculation formula; and (3) a multiplier, which takes both the variable's mean and weight into account, that can be multiplied with that variable's value for the purpose of determining the income variable in each row.\n",
    "\n",
    "First, I will create the df_weights DataFrame:"
   ],
   "cell_type": "markdown",
   "metadata": {}
  },
  {
   "cell_type": "code",
   "execution_count": 8,
   "metadata": {},
   "outputs": [
    {
     "output_type": "stream",
     "name": "stdout",
     "text": [
      "15\n"
     ]
    }
   ],
   "source": [
    "print(len(df.columns))"
   ]
  },
  {
   "cell_type": "code",
   "execution_count": 9,
   "metadata": {},
   "outputs": [
    {
     "output_type": "stream",
     "name": "stdout",
     "text": [
      "15_unexplained\n"
     ]
    }
   ],
   "source": [
    "test_name = str(len(df.columns))+\"_unexplained\"\n",
    "print(test_name)"
   ]
  },
  {
   "cell_type": "code",
   "execution_count": 10,
   "metadata": {},
   "outputs": [
    {
     "output_type": "execute_result",
     "data": {
      "text/plain": [
       "           0_female 1_age 2_num_chronic 3_married 4_urban 5_hours_tv  \\\n",
       "mean            NaN   NaN           NaN       NaN     NaN        NaN   \n",
       "weight          NaN   NaN           NaN       NaN     NaN        NaN   \n",
       "multiplier      NaN   NaN           NaN       NaN     NaN        NaN   \n",
       "\n",
       "           6_hours_sm 7_num_sunny 8_avg_temp 9_close_friends 10_worship_days  \\\n",
       "mean              NaN         NaN        NaN             NaN             NaN   \n",
       "weight            NaN         NaN        NaN             NaN             NaN   \n",
       "multiplier        NaN         NaN        NaN             NaN             NaN   \n",
       "\n",
       "           11_years_edu 12_employed_ft 13_income 14_happiness 15_unexplained  \n",
       "mean                NaN            NaN       NaN          NaN            NaN  \n",
       "weight              NaN            NaN       NaN          NaN            NaN  \n",
       "multiplier          NaN            NaN       NaN          NaN            NaN  "
      ],
      "text/html": "<div>\n<style scoped>\n    .dataframe tbody tr th:only-of-type {\n        vertical-align: middle;\n    }\n\n    .dataframe tbody tr th {\n        vertical-align: top;\n    }\n\n    .dataframe thead th {\n        text-align: right;\n    }\n</style>\n<table border=\"1\" class=\"dataframe\">\n  <thead>\n    <tr style=\"text-align: right;\">\n      <th></th>\n      <th>0_female</th>\n      <th>1_age</th>\n      <th>2_num_chronic</th>\n      <th>3_married</th>\n      <th>4_urban</th>\n      <th>5_hours_tv</th>\n      <th>6_hours_sm</th>\n      <th>7_num_sunny</th>\n      <th>8_avg_temp</th>\n      <th>9_close_friends</th>\n      <th>10_worship_days</th>\n      <th>11_years_edu</th>\n      <th>12_employed_ft</th>\n      <th>13_income</th>\n      <th>14_happiness</th>\n      <th>15_unexplained</th>\n    </tr>\n  </thead>\n  <tbody>\n    <tr>\n      <th>mean</th>\n      <td>NaN</td>\n      <td>NaN</td>\n      <td>NaN</td>\n      <td>NaN</td>\n      <td>NaN</td>\n      <td>NaN</td>\n      <td>NaN</td>\n      <td>NaN</td>\n      <td>NaN</td>\n      <td>NaN</td>\n      <td>NaN</td>\n      <td>NaN</td>\n      <td>NaN</td>\n      <td>NaN</td>\n      <td>NaN</td>\n      <td>NaN</td>\n    </tr>\n    <tr>\n      <th>weight</th>\n      <td>NaN</td>\n      <td>NaN</td>\n      <td>NaN</td>\n      <td>NaN</td>\n      <td>NaN</td>\n      <td>NaN</td>\n      <td>NaN</td>\n      <td>NaN</td>\n      <td>NaN</td>\n      <td>NaN</td>\n      <td>NaN</td>\n      <td>NaN</td>\n      <td>NaN</td>\n      <td>NaN</td>\n      <td>NaN</td>\n      <td>NaN</td>\n    </tr>\n    <tr>\n      <th>multiplier</th>\n      <td>NaN</td>\n      <td>NaN</td>\n      <td>NaN</td>\n      <td>NaN</td>\n      <td>NaN</td>\n      <td>NaN</td>\n      <td>NaN</td>\n      <td>NaN</td>\n      <td>NaN</td>\n      <td>NaN</td>\n      <td>NaN</td>\n      <td>NaN</td>\n      <td>NaN</td>\n      <td>NaN</td>\n      <td>NaN</td>\n      <td>NaN</td>\n    </tr>\n  </tbody>\n</table>\n</div>"
     },
     "metadata": {},
     "execution_count": 10
    }
   ],
   "source": [
    "additional_column = [str(len(df.columns))+\"_unexplained\"] # This column will store the amount of variance not explained by the weighted variables. Its name will begin with an index number 1 greater than the last number in the DataFrame.\n",
    "columns_plus_unexplained = columns_list+additional_column\n",
    "df_weights_1 = pd.DataFrame(columns = columns_plus_unexplained, index = ['mean', 'weight', 'multiplier'])\n",
    "\n",
    "df_weights_1"
   ]
  },
  {
   "source": [
    "Initializing the mean absolute values, weights, and multiplier values in df_weights:\n",
    "\n",
    "The set_weights formula below fills in df_weights_1 with most of the values needed to determine the value of the dependent variable. Within this formula,I first calculated the mean absolute value of each variable, then stored that variable in the mean row. (The mean absolute value is used because this will be a better measure of magnitude for variables that include both positive and negative values.)\n",
    "\n",
    "I next determined what weight I desired for each of my variables to have in the regression calculation (with negative weights reflecting a negative correlation). The sum of the absolute value of each weight reflected what proportion of the total variance I wanted to be explained by that variable. 1 - the sum of all these absolute values equals the total unexplained weight.\t\t\t\t\t\t\t\t\t\t\t\t\t\t\t\n",
    "Next, I created the 'multiplier' value for each variable, which will be a central part of the formula for my dependent variables.\n",
    "\n",
    "The multiplier formula equals (desired weight)/(mean absolute value*2). The weight is in the numerator since I want higher weights to result in higher multipliers. The purpose of including the average in the denominator is to standardize the multiplier's value across variables. For instance, if variable A has an avearge value of 1000 and variable B has an average value of 1, I would not want variable A to receive 1000 times the weight of variable B as a result of this discrepancy. Therefore, the solution is to divide the multiplier of a variable by that variable's mean absolute value. This denominator will be offset by the value of the variable during the multiplication of that variable and the multiplier.\n",
    "\n",
    "The purpose of the 2 in the denominator is to prevent the multiplier from being twice as high as it should be. For example, suppose a variable has a range of 0 to 1 (as does any binary variable), a desired weight of 1, and an average of 0.5. If we divide by the average, the multiplier will become 2, which is twice our desired weight. By dividing by 2, the multiplier equation becomes 1/1 = 1."
   ],
   "cell_type": "markdown",
   "metadata": {}
  },
  {
   "cell_type": "code",
   "execution_count": 11,
   "metadata": {},
   "outputs": [
    {
     "output_type": "execute_result",
     "data": {
      "text/plain": [
       "0.06923076923076923"
      ]
     },
     "metadata": {},
     "execution_count": 11
    }
   ],
   "source": [
    "array_test = [-0.05, 0, 0, 0.05, 0.05, -0.03, -0.02, 0, 0, 0, 0, 0.25, 0.45]\n",
    "array_abs_sum = np.mean(np.absolute(array_test))\n",
    "array_abs_sum"
   ]
  },
  {
   "cell_type": "code",
   "execution_count": 12,
   "metadata": {},
   "outputs": [
    {
     "output_type": "execute_result",
     "data": {
      "text/plain": [
       "            0_female      1_age 2_num_chronic 3_married   4_urban 5_hours_tv  \\\n",
       "mean          0.4875  49.509375      2.454375  0.475625  0.703125    10.0795   \n",
       "weight         -0.05          0             0      0.05      0.05      -0.03   \n",
       "multiplier -0.051282        0.0           0.0  0.052562  0.035556  -0.001488   \n",
       "\n",
       "           6_hours_sm 7_num_sunny 8_avg_temp 9_close_friends 10_worship_days  \\\n",
       "mean          5.07375     120.625  55.052812          3.7375       47.451875   \n",
       "weight          -0.02           0          0               0               0   \n",
       "multiplier  -0.001971         0.0        0.0             0.0             0.0   \n",
       "\n",
       "           11_years_edu 12_employed_ft 13_income 14_happiness 15_unexplained  \n",
       "mean           15.38875       0.733125       NaN          NaN            NaN  \n",
       "weight             0.25           0.45       NaN          NaN            0.1  \n",
       "multiplier     0.008123       0.306905       NaN          NaN            NaN  "
      ],
      "text/html": "<div>\n<style scoped>\n    .dataframe tbody tr th:only-of-type {\n        vertical-align: middle;\n    }\n\n    .dataframe tbody tr th {\n        vertical-align: top;\n    }\n\n    .dataframe thead th {\n        text-align: right;\n    }\n</style>\n<table border=\"1\" class=\"dataframe\">\n  <thead>\n    <tr style=\"text-align: right;\">\n      <th></th>\n      <th>0_female</th>\n      <th>1_age</th>\n      <th>2_num_chronic</th>\n      <th>3_married</th>\n      <th>4_urban</th>\n      <th>5_hours_tv</th>\n      <th>6_hours_sm</th>\n      <th>7_num_sunny</th>\n      <th>8_avg_temp</th>\n      <th>9_close_friends</th>\n      <th>10_worship_days</th>\n      <th>11_years_edu</th>\n      <th>12_employed_ft</th>\n      <th>13_income</th>\n      <th>14_happiness</th>\n      <th>15_unexplained</th>\n    </tr>\n  </thead>\n  <tbody>\n    <tr>\n      <th>mean</th>\n      <td>0.4875</td>\n      <td>49.509375</td>\n      <td>2.454375</td>\n      <td>0.475625</td>\n      <td>0.703125</td>\n      <td>10.0795</td>\n      <td>5.07375</td>\n      <td>120.625</td>\n      <td>55.052812</td>\n      <td>3.7375</td>\n      <td>47.451875</td>\n      <td>15.38875</td>\n      <td>0.733125</td>\n      <td>NaN</td>\n      <td>NaN</td>\n      <td>NaN</td>\n    </tr>\n    <tr>\n      <th>weight</th>\n      <td>-0.05</td>\n      <td>0</td>\n      <td>0</td>\n      <td>0.05</td>\n      <td>0.05</td>\n      <td>-0.03</td>\n      <td>-0.02</td>\n      <td>0</td>\n      <td>0</td>\n      <td>0</td>\n      <td>0</td>\n      <td>0.25</td>\n      <td>0.45</td>\n      <td>NaN</td>\n      <td>NaN</td>\n      <td>0.1</td>\n    </tr>\n    <tr>\n      <th>multiplier</th>\n      <td>-0.051282</td>\n      <td>0.0</td>\n      <td>0.0</td>\n      <td>0.052562</td>\n      <td>0.035556</td>\n      <td>-0.001488</td>\n      <td>-0.001971</td>\n      <td>0.0</td>\n      <td>0.0</td>\n      <td>0.0</td>\n      <td>0.0</td>\n      <td>0.008123</td>\n      <td>0.306905</td>\n      <td>NaN</td>\n      <td>NaN</td>\n      <td>NaN</td>\n    </tr>\n  </tbody>\n</table>\n</div>"
     },
     "metadata": {},
     "execution_count": 12
    }
   ],
   "source": [
    "weights_1 = [-0.05, 0, 0, 0.05, 0.05, -0.03, -0.02, 0, 0, 0, 0, 0.25, 0.45]\n",
    "\n",
    "def set_weights(weight_list,weight_df,df_data):\n",
    "    for i in range(len(weight_df.columns)-1): # The -1 prevents this for loop from going out of bounds (as weight_df will have one more column, the 'unxplained' column, than df)\n",
    "        weight_df.iloc[0, i]=np.mean(np.absolute(df.iloc[:,i])) # Fills in the means column\n",
    "    for i in range(len(weight_list)):\n",
    "        weight_df.iloc[1, i] = weight_list[i] # Fills in the weights column up to the last value in weight_list\n",
    "        abs_sum = 0\n",
    "        weight_df.iloc[1, -1]=1-sum(np.absolute(weight_list)) # Calculates the amount of unexplained variance and then assigns that amount to the 'unexplained' column in weight_df\n",
    "        weight_df.iloc[2,:] = weight_df.iloc[1,:]/(weight_df.iloc[0,:]*2) # Calculates the multipliers that will be used for each variable when generating the variable's values in the DataFrame\n",
    "    return weight_df\n",
    "\n",
    "df_weights_1 = set_weights(weights_1,df_weights_1,df)\n",
    "df_weights_1\n"
   ]
  },
  {
   "cell_type": "code",
   "execution_count": 13,
   "metadata": {},
   "outputs": [
    {
     "output_type": "stream",
     "name": "stdout",
     "text": [
      "0.4149299421791226\n0_female          -0.051282\n1_age                   0.0\n2_num_chronic           0.0\n3_married          0.052562\n4_urban            0.035556\n5_hours_tv        -0.010715\n6_hours_sm         -0.01557\n7_num_sunny             0.0\n8_avg_temp              0.0\n9_close_friends         0.0\n10_worship_days         0.0\n11_years_edu       0.097474\ndtype: object\n0.1080245713351328\n0.1080245713351328\n"
     ]
    }
   ],
   "source": [
    "# Testing ways to find the sum of the products when two series are multiplied together\n",
    "sumproduct_row_0 = 0\n",
    "for i in range (0, len(weights_1)):\n",
    "    sumproduct_row_0 += df.iloc[0, i]*df_weights_1.iloc[2,i]\n",
    "\n",
    "print(sumproduct_row_0)\n",
    "\n",
    "df.iloc[0:3,2:4]\n",
    "\n",
    "test_result = pd.Series.multiply(df.iloc[0, 0:12], df_weights_1.iloc[2,0:12])\n",
    "sumproduct2 = 0\n",
    "for i in range (len(test_result)):\n",
    "    sumproduct2+= test_result[i]\n",
    "print(test_result)\n",
    "print(sumproduct2)\n",
    "print(sum(test_result))"
   ]
  },
  {
   "source": [
    "Initializing the income variable by multiplying two series\n",
    "\n",
    "To arrive at the income variable value for each row, I will first add up the products of each variable's value with its multiplier (using the sum() function on the pd.Series.multiply function, producing a result identicial to =SUMPRODUCT in Excel). Next, I will add in the product of the total unexplained weight and rng.random(). Multiplying this unexplained weight by rng.random() adds some additional randomness to the outcomes, which in my view makes it more realistic (as unexplained variance, by its nature, should be unpredictable).\n",
    "\n",
    "\n",
    "This value can then be multiplied, added to, and/or rounded in order to arrive at a desired range of outcome measures. In the case of the income dependent variable, I multiplied the value calculated above by 100,000; rounded the product; and added 12000 to it in order arrive at a reasonable range of incomes."
   ],
   "cell_type": "markdown",
   "metadata": {}
  },
  {
   "cell_type": "code",
   "execution_count": 14,
   "metadata": {},
   "outputs": [
    {
     "output_type": "execute_result",
     "data": {
      "text/plain": [
       "     0_female 1_age 2_num_chronic 3_married 4_urban 5_hours_tv 6_hours_sm  \\\n",
       "id                                                                          \n",
       "1           1    50             1         1       1        7.2        7.9   \n",
       "2           1    68             4         0       0        7.0        5.5   \n",
       "3           1    60             5         0       1       11.4        7.0   \n",
       "4           0    24             3         0       0       13.1        5.7   \n",
       "5           1    30             1         1       0        6.1        1.7   \n",
       "...       ...   ...           ...       ...     ...        ...        ...   \n",
       "1596        1    20             2         1       1        6.1        9.7   \n",
       "1597        1    75             3         0       1        8.9        5.2   \n",
       "1598        1    29             0         0       1        4.5        5.4   \n",
       "1599        1    77             0         0       1        7.5        5.1   \n",
       "1600        0    21             0         0       1        6.7        4.0   \n",
       "\n",
       "     7_num_sunny 8_avg_temp 9_close_friends 10_worship_days 11_years_edu  \\\n",
       "id                                                                         \n",
       "1            136       55.6               8              78           12   \n",
       "2            104       54.9               7              22           16   \n",
       "3            132       60.0               8              55           20   \n",
       "4            139       56.7               5               0           10   \n",
       "5            108       64.2               0              73           10   \n",
       "...          ...        ...             ...             ...          ...   \n",
       "1596         105       51.3               7              55           18   \n",
       "1597          86       59.9               2              43           18   \n",
       "1598         137       53.5               6              61           16   \n",
       "1599         143       57.4               0               4           10   \n",
       "1600         140       59.7               2              38           10   \n",
       "\n",
       "     12_employed_ft 13_income 14_happiness  \n",
       "id                                          \n",
       "1                 1     60607          NaN  \n",
       "2                 0     27155          NaN  \n",
       "3                 1     56371          NaN  \n",
       "4                 1     53930          NaN  \n",
       "5                 1     53575          NaN  \n",
       "...             ...       ...          ...  \n",
       "1596              1     67835          NaN  \n",
       "1597              1     59798          NaN  \n",
       "1598              1     61423          NaN  \n",
       "1599              0     18404          NaN  \n",
       "1600              1     59181          NaN  \n",
       "\n",
       "[1600 rows x 15 columns]"
      ],
      "text/html": "<div>\n<style scoped>\n    .dataframe tbody tr th:only-of-type {\n        vertical-align: middle;\n    }\n\n    .dataframe tbody tr th {\n        vertical-align: top;\n    }\n\n    .dataframe thead th {\n        text-align: right;\n    }\n</style>\n<table border=\"1\" class=\"dataframe\">\n  <thead>\n    <tr style=\"text-align: right;\">\n      <th></th>\n      <th>0_female</th>\n      <th>1_age</th>\n      <th>2_num_chronic</th>\n      <th>3_married</th>\n      <th>4_urban</th>\n      <th>5_hours_tv</th>\n      <th>6_hours_sm</th>\n      <th>7_num_sunny</th>\n      <th>8_avg_temp</th>\n      <th>9_close_friends</th>\n      <th>10_worship_days</th>\n      <th>11_years_edu</th>\n      <th>12_employed_ft</th>\n      <th>13_income</th>\n      <th>14_happiness</th>\n    </tr>\n    <tr>\n      <th>id</th>\n      <th></th>\n      <th></th>\n      <th></th>\n      <th></th>\n      <th></th>\n      <th></th>\n      <th></th>\n      <th></th>\n      <th></th>\n      <th></th>\n      <th></th>\n      <th></th>\n      <th></th>\n      <th></th>\n      <th></th>\n    </tr>\n  </thead>\n  <tbody>\n    <tr>\n      <th>1</th>\n      <td>1</td>\n      <td>50</td>\n      <td>1</td>\n      <td>1</td>\n      <td>1</td>\n      <td>7.2</td>\n      <td>7.9</td>\n      <td>136</td>\n      <td>55.6</td>\n      <td>8</td>\n      <td>78</td>\n      <td>12</td>\n      <td>1</td>\n      <td>60607</td>\n      <td>NaN</td>\n    </tr>\n    <tr>\n      <th>2</th>\n      <td>1</td>\n      <td>68</td>\n      <td>4</td>\n      <td>0</td>\n      <td>0</td>\n      <td>7.0</td>\n      <td>5.5</td>\n      <td>104</td>\n      <td>54.9</td>\n      <td>7</td>\n      <td>22</td>\n      <td>16</td>\n      <td>0</td>\n      <td>27155</td>\n      <td>NaN</td>\n    </tr>\n    <tr>\n      <th>3</th>\n      <td>1</td>\n      <td>60</td>\n      <td>5</td>\n      <td>0</td>\n      <td>1</td>\n      <td>11.4</td>\n      <td>7.0</td>\n      <td>132</td>\n      <td>60.0</td>\n      <td>8</td>\n      <td>55</td>\n      <td>20</td>\n      <td>1</td>\n      <td>56371</td>\n      <td>NaN</td>\n    </tr>\n    <tr>\n      <th>4</th>\n      <td>0</td>\n      <td>24</td>\n      <td>3</td>\n      <td>0</td>\n      <td>0</td>\n      <td>13.1</td>\n      <td>5.7</td>\n      <td>139</td>\n      <td>56.7</td>\n      <td>5</td>\n      <td>0</td>\n      <td>10</td>\n      <td>1</td>\n      <td>53930</td>\n      <td>NaN</td>\n    </tr>\n    <tr>\n      <th>5</th>\n      <td>1</td>\n      <td>30</td>\n      <td>1</td>\n      <td>1</td>\n      <td>0</td>\n      <td>6.1</td>\n      <td>1.7</td>\n      <td>108</td>\n      <td>64.2</td>\n      <td>0</td>\n      <td>73</td>\n      <td>10</td>\n      <td>1</td>\n      <td>53575</td>\n      <td>NaN</td>\n    </tr>\n    <tr>\n      <th>...</th>\n      <td>...</td>\n      <td>...</td>\n      <td>...</td>\n      <td>...</td>\n      <td>...</td>\n      <td>...</td>\n      <td>...</td>\n      <td>...</td>\n      <td>...</td>\n      <td>...</td>\n      <td>...</td>\n      <td>...</td>\n      <td>...</td>\n      <td>...</td>\n      <td>...</td>\n    </tr>\n    <tr>\n      <th>1596</th>\n      <td>1</td>\n      <td>20</td>\n      <td>2</td>\n      <td>1</td>\n      <td>1</td>\n      <td>6.1</td>\n      <td>9.7</td>\n      <td>105</td>\n      <td>51.3</td>\n      <td>7</td>\n      <td>55</td>\n      <td>18</td>\n      <td>1</td>\n      <td>67835</td>\n      <td>NaN</td>\n    </tr>\n    <tr>\n      <th>1597</th>\n      <td>1</td>\n      <td>75</td>\n      <td>3</td>\n      <td>0</td>\n      <td>1</td>\n      <td>8.9</td>\n      <td>5.2</td>\n      <td>86</td>\n      <td>59.9</td>\n      <td>2</td>\n      <td>43</td>\n      <td>18</td>\n      <td>1</td>\n      <td>59798</td>\n      <td>NaN</td>\n    </tr>\n    <tr>\n      <th>1598</th>\n      <td>1</td>\n      <td>29</td>\n      <td>0</td>\n      <td>0</td>\n      <td>1</td>\n      <td>4.5</td>\n      <td>5.4</td>\n      <td>137</td>\n      <td>53.5</td>\n      <td>6</td>\n      <td>61</td>\n      <td>16</td>\n      <td>1</td>\n      <td>61423</td>\n      <td>NaN</td>\n    </tr>\n    <tr>\n      <th>1599</th>\n      <td>1</td>\n      <td>77</td>\n      <td>0</td>\n      <td>0</td>\n      <td>1</td>\n      <td>7.5</td>\n      <td>5.1</td>\n      <td>143</td>\n      <td>57.4</td>\n      <td>0</td>\n      <td>4</td>\n      <td>10</td>\n      <td>0</td>\n      <td>18404</td>\n      <td>NaN</td>\n    </tr>\n    <tr>\n      <th>1600</th>\n      <td>0</td>\n      <td>21</td>\n      <td>0</td>\n      <td>0</td>\n      <td>1</td>\n      <td>6.7</td>\n      <td>4.0</td>\n      <td>140</td>\n      <td>59.7</td>\n      <td>2</td>\n      <td>38</td>\n      <td>10</td>\n      <td>1</td>\n      <td>59181</td>\n      <td>NaN</td>\n    </tr>\n  </tbody>\n</table>\n<p>1600 rows × 15 columns</p>\n</div>"
     },
     "metadata": {},
     "execution_count": 14
    }
   ],
   "source": [
    "# Variable 13 initialization\n",
    "# \n",
    "for i in range (0, len(df)):\n",
    "    df.iloc[i,13] = round((sum(pd.Series.multiply(df.iloc[i, 0:13], df_weights_1.iloc[2,0:13]))+rng.random()*df_weights_1.iloc[1,15])*100000)+12000\n",
    "# Note that .iloc[2,0:13] only selects columns 0 to 12.\n",
    "\n",
    "df"
   ]
  },
  {
   "cell_type": "code",
   "execution_count": 15,
   "metadata": {},
   "outputs": [
    {
     "output_type": "stream",
     "name": "stdout",
     "text": [
      "51978.809375\n13089\n75910\n"
     ]
    }
   ],
   "source": [
    "# The following 3 print statements helped me determine how to multiply/add to the income variable output so that the results would match a reasonable range of income levels.\n",
    "print(np.mean(df.iloc[:,13]))\n",
    "print(min(df.iloc[:,13]))\n",
    "print(max(df.iloc[:,13]))"
   ]
  },
  {
   "source": [
    "I will now create a new weights table that can be used to construct the values of the main dependent variable (happiness)."
   ],
   "cell_type": "markdown",
   "metadata": {}
  },
  {
   "cell_type": "code",
   "execution_count": 16,
   "metadata": {},
   "outputs": [
    {
     "output_type": "execute_result",
     "data": {
      "text/plain": [
       "           0_female      1_age 2_num_chronic 3_married   4_urban 5_hours_tv  \\\n",
       "mean         0.4875  49.509375      2.454375  0.475625  0.703125    10.0795   \n",
       "weight            0       0.02         -0.05      0.15     -0.05      -0.03   \n",
       "multiplier      0.0   0.000202     -0.010186  0.157687 -0.035556  -0.001488   \n",
       "\n",
       "           6_hours_sm 7_num_sunny 8_avg_temp 9_close_friends 10_worship_days  \\\n",
       "mean          5.07375     120.625  55.052812          3.7375       47.451875   \n",
       "weight          -0.05        0.02       0.01             0.1            0.15   \n",
       "multiplier  -0.004927    0.000083   0.000091        0.013378        0.001581   \n",
       "\n",
       "           11_years_edu 12_employed_ft     13_income 14_happiness  \\\n",
       "mean           15.38875       0.733125  51978.809375          NaN   \n",
       "weight             0.03           0.12          0.04          NaN   \n",
       "multiplier     0.000975       0.081841           0.0          NaN   \n",
       "\n",
       "           15_unexplained  \n",
       "mean                  NaN  \n",
       "weight               0.18  \n",
       "multiplier            NaN  "
      ],
      "text/html": "<div>\n<style scoped>\n    .dataframe tbody tr th:only-of-type {\n        vertical-align: middle;\n    }\n\n    .dataframe tbody tr th {\n        vertical-align: top;\n    }\n\n    .dataframe thead th {\n        text-align: right;\n    }\n</style>\n<table border=\"1\" class=\"dataframe\">\n  <thead>\n    <tr style=\"text-align: right;\">\n      <th></th>\n      <th>0_female</th>\n      <th>1_age</th>\n      <th>2_num_chronic</th>\n      <th>3_married</th>\n      <th>4_urban</th>\n      <th>5_hours_tv</th>\n      <th>6_hours_sm</th>\n      <th>7_num_sunny</th>\n      <th>8_avg_temp</th>\n      <th>9_close_friends</th>\n      <th>10_worship_days</th>\n      <th>11_years_edu</th>\n      <th>12_employed_ft</th>\n      <th>13_income</th>\n      <th>14_happiness</th>\n      <th>15_unexplained</th>\n    </tr>\n  </thead>\n  <tbody>\n    <tr>\n      <th>mean</th>\n      <td>0.4875</td>\n      <td>49.509375</td>\n      <td>2.454375</td>\n      <td>0.475625</td>\n      <td>0.703125</td>\n      <td>10.0795</td>\n      <td>5.07375</td>\n      <td>120.625</td>\n      <td>55.052812</td>\n      <td>3.7375</td>\n      <td>47.451875</td>\n      <td>15.38875</td>\n      <td>0.733125</td>\n      <td>51978.809375</td>\n      <td>NaN</td>\n      <td>NaN</td>\n    </tr>\n    <tr>\n      <th>weight</th>\n      <td>0</td>\n      <td>0.02</td>\n      <td>-0.05</td>\n      <td>0.15</td>\n      <td>-0.05</td>\n      <td>-0.03</td>\n      <td>-0.05</td>\n      <td>0.02</td>\n      <td>0.01</td>\n      <td>0.1</td>\n      <td>0.15</td>\n      <td>0.03</td>\n      <td>0.12</td>\n      <td>0.04</td>\n      <td>NaN</td>\n      <td>0.18</td>\n    </tr>\n    <tr>\n      <th>multiplier</th>\n      <td>0.0</td>\n      <td>0.000202</td>\n      <td>-0.010186</td>\n      <td>0.157687</td>\n      <td>-0.035556</td>\n      <td>-0.001488</td>\n      <td>-0.004927</td>\n      <td>0.000083</td>\n      <td>0.000091</td>\n      <td>0.013378</td>\n      <td>0.001581</td>\n      <td>0.000975</td>\n      <td>0.081841</td>\n      <td>0.0</td>\n      <td>NaN</td>\n      <td>NaN</td>\n    </tr>\n  </tbody>\n</table>\n</div>"
     },
     "metadata": {},
     "execution_count": 16
    }
   ],
   "source": [
    "df_weights_2 = df_weights_1.copy() # copy() is necessary in order to prevent changes from df_weights_2 from also impacting df_weights_1. See https://pandas.pydata.org/docs/reference/api/pandas.DataFrame.copy.html\n",
    "weights_2 = [0, 0.02, -0.05, 0.15, -0.05, -0.03, -0.05, 0.02, 0.01, 0.1, 0.15, 0.03, 0.12, 0.04]\n",
    "\n",
    "df_weights_2 = set_weights(weights_2,df_weights_2,df)\n",
    "\n",
    "df_weights_2"
   ]
  },
  {
   "cell_type": "code",
   "execution_count": 17,
   "metadata": {},
   "outputs": [
    {
     "output_type": "execute_result",
     "data": {
      "text/plain": [
       "            0_female      1_age 2_num_chronic 3_married   4_urban 5_hours_tv  \\\n",
       "mean          0.4875  49.509375      2.454375  0.475625  0.703125    10.0795   \n",
       "weight         -0.05          0             0      0.05      0.05      -0.03   \n",
       "multiplier -0.051282        0.0           0.0  0.052562  0.035556  -0.001488   \n",
       "\n",
       "           6_hours_sm 7_num_sunny 8_avg_temp 9_close_friends 10_worship_days  \\\n",
       "mean          5.07375     120.625  55.052812          3.7375       47.451875   \n",
       "weight          -0.02           0          0               0               0   \n",
       "multiplier  -0.001971         0.0        0.0             0.0             0.0   \n",
       "\n",
       "           11_years_edu 12_employed_ft 13_income 14_happiness 15_unexplained  \n",
       "mean           15.38875       0.733125       NaN          NaN            NaN  \n",
       "weight             0.25           0.45       NaN          NaN            0.1  \n",
       "multiplier     0.008123       0.306905       NaN          NaN            NaN  "
      ],
      "text/html": "<div>\n<style scoped>\n    .dataframe tbody tr th:only-of-type {\n        vertical-align: middle;\n    }\n\n    .dataframe tbody tr th {\n        vertical-align: top;\n    }\n\n    .dataframe thead th {\n        text-align: right;\n    }\n</style>\n<table border=\"1\" class=\"dataframe\">\n  <thead>\n    <tr style=\"text-align: right;\">\n      <th></th>\n      <th>0_female</th>\n      <th>1_age</th>\n      <th>2_num_chronic</th>\n      <th>3_married</th>\n      <th>4_urban</th>\n      <th>5_hours_tv</th>\n      <th>6_hours_sm</th>\n      <th>7_num_sunny</th>\n      <th>8_avg_temp</th>\n      <th>9_close_friends</th>\n      <th>10_worship_days</th>\n      <th>11_years_edu</th>\n      <th>12_employed_ft</th>\n      <th>13_income</th>\n      <th>14_happiness</th>\n      <th>15_unexplained</th>\n    </tr>\n  </thead>\n  <tbody>\n    <tr>\n      <th>mean</th>\n      <td>0.4875</td>\n      <td>49.509375</td>\n      <td>2.454375</td>\n      <td>0.475625</td>\n      <td>0.703125</td>\n      <td>10.0795</td>\n      <td>5.07375</td>\n      <td>120.625</td>\n      <td>55.052812</td>\n      <td>3.7375</td>\n      <td>47.451875</td>\n      <td>15.38875</td>\n      <td>0.733125</td>\n      <td>NaN</td>\n      <td>NaN</td>\n      <td>NaN</td>\n    </tr>\n    <tr>\n      <th>weight</th>\n      <td>-0.05</td>\n      <td>0</td>\n      <td>0</td>\n      <td>0.05</td>\n      <td>0.05</td>\n      <td>-0.03</td>\n      <td>-0.02</td>\n      <td>0</td>\n      <td>0</td>\n      <td>0</td>\n      <td>0</td>\n      <td>0.25</td>\n      <td>0.45</td>\n      <td>NaN</td>\n      <td>NaN</td>\n      <td>0.1</td>\n    </tr>\n    <tr>\n      <th>multiplier</th>\n      <td>-0.051282</td>\n      <td>0.0</td>\n      <td>0.0</td>\n      <td>0.052562</td>\n      <td>0.035556</td>\n      <td>-0.001488</td>\n      <td>-0.001971</td>\n      <td>0.0</td>\n      <td>0.0</td>\n      <td>0.0</td>\n      <td>0.0</td>\n      <td>0.008123</td>\n      <td>0.306905</td>\n      <td>NaN</td>\n      <td>NaN</td>\n      <td>NaN</td>\n    </tr>\n  </tbody>\n</table>\n</div>"
     },
     "metadata": {},
     "execution_count": 17
    }
   ],
   "source": [
    "df_weights_1\n"
   ]
  },
  {
   "cell_type": "code",
   "execution_count": 18,
   "metadata": {},
   "outputs": [
    {
     "output_type": "execute_result",
     "data": {
      "text/plain": [
       "     0_female 1_age 2_num_chronic 3_married 4_urban 5_hours_tv 6_hours_sm  \\\n",
       "id                                                                          \n",
       "1           1    50             1         1       1        7.2        7.9   \n",
       "2           1    68             4         0       0        7.0        5.5   \n",
       "3           1    60             5         0       1       11.4        7.0   \n",
       "4           0    24             3         0       0       13.1        5.7   \n",
       "5           1    30             1         1       0        6.1        1.7   \n",
       "...       ...   ...           ...       ...     ...        ...        ...   \n",
       "1596        1    20             2         1       1        6.1        9.7   \n",
       "1597        1    75             3         0       1        8.9        5.2   \n",
       "1598        1    29             0         0       1        4.5        5.4   \n",
       "1599        1    77             0         0       1        7.5        5.1   \n",
       "1600        0    21             0         0       1        6.7        4.0   \n",
       "\n",
       "     7_num_sunny 8_avg_temp 9_close_friends 10_worship_days 11_years_edu  \\\n",
       "id                                                                         \n",
       "1            136       55.6               8              78           12   \n",
       "2            104       54.9               7              22           16   \n",
       "3            132       60.0               8              55           20   \n",
       "4            139       56.7               5               0           10   \n",
       "5            108       64.2               0              73           10   \n",
       "...          ...        ...             ...             ...          ...   \n",
       "1596         105       51.3               7              55           18   \n",
       "1597          86       59.9               2              43           18   \n",
       "1598         137       53.5               6              61           16   \n",
       "1599         143       57.4               0               4           10   \n",
       "1600         140       59.7               2              38           10   \n",
       "\n",
       "     12_employed_ft 13_income 14_happiness  \n",
       "id                                          \n",
       "1                 1     60607           44  \n",
       "2                 0     27155           26  \n",
       "3                 1     56371           31  \n",
       "4                 1     53930           26  \n",
       "5                 1     53575           41  \n",
       "...             ...       ...          ...  \n",
       "1596              1     67835           37  \n",
       "1597              1     59798           29  \n",
       "1598              1     61423           34  \n",
       "1599              0     18404           25  \n",
       "1600              1     59181           32  \n",
       "\n",
       "[1600 rows x 15 columns]"
      ],
      "text/html": "<div>\n<style scoped>\n    .dataframe tbody tr th:only-of-type {\n        vertical-align: middle;\n    }\n\n    .dataframe tbody tr th {\n        vertical-align: top;\n    }\n\n    .dataframe thead th {\n        text-align: right;\n    }\n</style>\n<table border=\"1\" class=\"dataframe\">\n  <thead>\n    <tr style=\"text-align: right;\">\n      <th></th>\n      <th>0_female</th>\n      <th>1_age</th>\n      <th>2_num_chronic</th>\n      <th>3_married</th>\n      <th>4_urban</th>\n      <th>5_hours_tv</th>\n      <th>6_hours_sm</th>\n      <th>7_num_sunny</th>\n      <th>8_avg_temp</th>\n      <th>9_close_friends</th>\n      <th>10_worship_days</th>\n      <th>11_years_edu</th>\n      <th>12_employed_ft</th>\n      <th>13_income</th>\n      <th>14_happiness</th>\n    </tr>\n    <tr>\n      <th>id</th>\n      <th></th>\n      <th></th>\n      <th></th>\n      <th></th>\n      <th></th>\n      <th></th>\n      <th></th>\n      <th></th>\n      <th></th>\n      <th></th>\n      <th></th>\n      <th></th>\n      <th></th>\n      <th></th>\n      <th></th>\n    </tr>\n  </thead>\n  <tbody>\n    <tr>\n      <th>1</th>\n      <td>1</td>\n      <td>50</td>\n      <td>1</td>\n      <td>1</td>\n      <td>1</td>\n      <td>7.2</td>\n      <td>7.9</td>\n      <td>136</td>\n      <td>55.6</td>\n      <td>8</td>\n      <td>78</td>\n      <td>12</td>\n      <td>1</td>\n      <td>60607</td>\n      <td>44</td>\n    </tr>\n    <tr>\n      <th>2</th>\n      <td>1</td>\n      <td>68</td>\n      <td>4</td>\n      <td>0</td>\n      <td>0</td>\n      <td>7.0</td>\n      <td>5.5</td>\n      <td>104</td>\n      <td>54.9</td>\n      <td>7</td>\n      <td>22</td>\n      <td>16</td>\n      <td>0</td>\n      <td>27155</td>\n      <td>26</td>\n    </tr>\n    <tr>\n      <th>3</th>\n      <td>1</td>\n      <td>60</td>\n      <td>5</td>\n      <td>0</td>\n      <td>1</td>\n      <td>11.4</td>\n      <td>7.0</td>\n      <td>132</td>\n      <td>60.0</td>\n      <td>8</td>\n      <td>55</td>\n      <td>20</td>\n      <td>1</td>\n      <td>56371</td>\n      <td>31</td>\n    </tr>\n    <tr>\n      <th>4</th>\n      <td>0</td>\n      <td>24</td>\n      <td>3</td>\n      <td>0</td>\n      <td>0</td>\n      <td>13.1</td>\n      <td>5.7</td>\n      <td>139</td>\n      <td>56.7</td>\n      <td>5</td>\n      <td>0</td>\n      <td>10</td>\n      <td>1</td>\n      <td>53930</td>\n      <td>26</td>\n    </tr>\n    <tr>\n      <th>5</th>\n      <td>1</td>\n      <td>30</td>\n      <td>1</td>\n      <td>1</td>\n      <td>0</td>\n      <td>6.1</td>\n      <td>1.7</td>\n      <td>108</td>\n      <td>64.2</td>\n      <td>0</td>\n      <td>73</td>\n      <td>10</td>\n      <td>1</td>\n      <td>53575</td>\n      <td>41</td>\n    </tr>\n    <tr>\n      <th>...</th>\n      <td>...</td>\n      <td>...</td>\n      <td>...</td>\n      <td>...</td>\n      <td>...</td>\n      <td>...</td>\n      <td>...</td>\n      <td>...</td>\n      <td>...</td>\n      <td>...</td>\n      <td>...</td>\n      <td>...</td>\n      <td>...</td>\n      <td>...</td>\n      <td>...</td>\n    </tr>\n    <tr>\n      <th>1596</th>\n      <td>1</td>\n      <td>20</td>\n      <td>2</td>\n      <td>1</td>\n      <td>1</td>\n      <td>6.1</td>\n      <td>9.7</td>\n      <td>105</td>\n      <td>51.3</td>\n      <td>7</td>\n      <td>55</td>\n      <td>18</td>\n      <td>1</td>\n      <td>67835</td>\n      <td>37</td>\n    </tr>\n    <tr>\n      <th>1597</th>\n      <td>1</td>\n      <td>75</td>\n      <td>3</td>\n      <td>0</td>\n      <td>1</td>\n      <td>8.9</td>\n      <td>5.2</td>\n      <td>86</td>\n      <td>59.9</td>\n      <td>2</td>\n      <td>43</td>\n      <td>18</td>\n      <td>1</td>\n      <td>59798</td>\n      <td>29</td>\n    </tr>\n    <tr>\n      <th>1598</th>\n      <td>1</td>\n      <td>29</td>\n      <td>0</td>\n      <td>0</td>\n      <td>1</td>\n      <td>4.5</td>\n      <td>5.4</td>\n      <td>137</td>\n      <td>53.5</td>\n      <td>6</td>\n      <td>61</td>\n      <td>16</td>\n      <td>1</td>\n      <td>61423</td>\n      <td>34</td>\n    </tr>\n    <tr>\n      <th>1599</th>\n      <td>1</td>\n      <td>77</td>\n      <td>0</td>\n      <td>0</td>\n      <td>1</td>\n      <td>7.5</td>\n      <td>5.1</td>\n      <td>143</td>\n      <td>57.4</td>\n      <td>0</td>\n      <td>4</td>\n      <td>10</td>\n      <td>0</td>\n      <td>18404</td>\n      <td>25</td>\n    </tr>\n    <tr>\n      <th>1600</th>\n      <td>0</td>\n      <td>21</td>\n      <td>0</td>\n      <td>0</td>\n      <td>1</td>\n      <td>6.7</td>\n      <td>4.0</td>\n      <td>140</td>\n      <td>59.7</td>\n      <td>2</td>\n      <td>38</td>\n      <td>10</td>\n      <td>1</td>\n      <td>59181</td>\n      <td>32</td>\n    </tr>\n  </tbody>\n</table>\n<p>1600 rows × 15 columns</p>\n</div>"
     },
     "metadata": {},
     "execution_count": 18
    }
   ],
   "source": [
    "# Variable 14 (dependent variable) initialization\n",
    "# \n",
    "for i in range (0, len(df)):\n",
    "    df.iloc[i,14] = round((sum(pd.Series.multiply(df.iloc[i, 0:14], df_weights_2.iloc[2,0:14]))+rng.random()*df_weights_2.iloc[1,15])*40)+20 \n",
    "\n",
    "# A model with less random variation (useful for testing purposes):\n",
    "# for i in range (0, len(df)):\n",
    "#     df.iloc[i,14] = round((sum(pd.Series.multiply(df.iloc[i, 0:14], df_weights_2.iloc[2,0:14]))+df_weights_2.iloc[1,15])*40)+20 \n",
    "# The *40 in the above formula will be referenced later on when attempting to reconcile the variable weights with their corresponding coefficients.\n",
    "\n",
    "df"
   ]
  },
  {
   "cell_type": "code",
   "execution_count": 19,
   "metadata": {},
   "outputs": [
    {
     "output_type": "stream",
     "name": "stdout",
     "text": [
      "32.834375\n19\n47\n"
     ]
    }
   ],
   "source": [
    "print(np.mean(df.iloc[:,14]))\n",
    "print(min(df.iloc[:,14]))\n",
    "print(max(df.iloc[:,14]))"
   ]
  },
  {
   "cell_type": "code",
   "execution_count": null,
   "metadata": {},
   "outputs": [],
   "source": []
  },
  {
   "cell_type": "code",
   "execution_count": 20,
   "metadata": {},
   "outputs": [
    {
     "output_type": "execute_result",
     "data": {
      "text/plain": [
       "0_female           object\n",
       "1_age              object\n",
       "2_num_chronic      object\n",
       "3_married          object\n",
       "4_urban            object\n",
       "5_hours_tv         object\n",
       "6_hours_sm         object\n",
       "7_num_sunny        object\n",
       "8_avg_temp         object\n",
       "9_close_friends    object\n",
       "10_worship_days    object\n",
       "11_years_edu       object\n",
       "12_employed_ft     object\n",
       "13_income          object\n",
       "14_happiness       object\n",
       "dtype: object"
      ]
     },
     "metadata": {},
     "execution_count": 20
    }
   ],
   "source": [
    "df.dtypes"
   ]
  },
  {
   "cell_type": "code",
   "execution_count": 21,
   "metadata": {},
   "outputs": [],
   "source": [
    "for i in range (len(df.columns)):\n",
    "    df.iloc[:,i] = pd.to_numeric(df.iloc[:,i]) # Converts values in the DataFrame columns to either integers or floats, depending on the input data."
   ]
  },
  {
   "cell_type": "code",
   "execution_count": 22,
   "metadata": {},
   "outputs": [
    {
     "output_type": "execute_result",
     "data": {
      "text/plain": [
       "0_female             int64\n",
       "1_age                int64\n",
       "2_num_chronic        int64\n",
       "3_married            int64\n",
       "4_urban              int64\n",
       "5_hours_tv         float64\n",
       "6_hours_sm         float64\n",
       "7_num_sunny          int64\n",
       "8_avg_temp         float64\n",
       "9_close_friends      int64\n",
       "10_worship_days      int64\n",
       "11_years_edu         int64\n",
       "12_employed_ft       int64\n",
       "13_income            int64\n",
       "14_happiness         int64\n",
       "dtype: object"
      ]
     },
     "metadata": {},
     "execution_count": 22
    }
   ],
   "source": [
    "df.dtypes"
   ]
  },
  {
   "cell_type": "code",
   "execution_count": 23,
   "metadata": {},
   "outputs": [
    {
     "output_type": "execute_result",
     "data": {
      "text/plain": [
       "<class 'statsmodels.iolib.summary.Summary'>\n",
       "\"\"\"\n",
       "                            OLS Regression Results                            \n",
       "==============================================================================\n",
       "Dep. Variable:           14_happiness   R-squared:                       0.830\n",
       "Model:                            OLS   Adj. R-squared:                  0.828\n",
       "Method:                 Least Squares   F-statistic:                     552.3\n",
       "Date:                Thu, 22 Apr 2021   Prob (F-statistic):               0.00\n",
       "Time:                        20:14:43   Log-Likelihood:                -3439.7\n",
       "No. Observations:                1600   AIC:                             6909.\n",
       "Df Residuals:                    1585   BIC:                             6990.\n",
       "Df Model:                          14                                         \n",
       "Covariance Type:            nonrobust                                         \n",
       "===================================================================================\n",
       "                      coef    std err          t      P>|t|      [0.025      0.975]\n",
       "-----------------------------------------------------------------------------------\n",
       "const              24.1652      0.828     29.171      0.000      22.540      25.790\n",
       "0_female           -0.0321      0.169     -0.190      0.850      -0.363       0.299\n",
       "1_age               0.0075      0.003      2.529      0.012       0.002       0.013\n",
       "2_num_chronic      -0.4148      0.031    -13.522      0.000      -0.475      -0.355\n",
       "3_married           6.3367      0.146     43.254      0.000       6.049       6.624\n",
       "4_urban            -1.1363      0.130     -8.732      0.000      -1.392      -0.881\n",
       "5_hours_tv         -0.0699      0.014     -5.177      0.000      -0.096      -0.043\n",
       "6_hours_sm         -0.1658      0.027     -6.210      0.000      -0.218      -0.113\n",
       "7_num_sunny         0.0013      0.003      0.491      0.624      -0.004       0.006\n",
       "8_avg_temp         -0.0018      0.011     -0.171      0.864      -0.023       0.019\n",
       "9_close_friends     0.5227      0.025     20.941      0.000       0.474       0.572\n",
       "10_worship_days     0.0618      0.002     35.345      0.000       0.058       0.065\n",
       "11_years_edu        0.0414      0.021      1.953      0.051      -0.000       0.083\n",
       "12_employed_ft      3.4241      0.581      5.891      0.000       2.284       4.564\n",
       "13_income        1.101e-05   1.86e-05      0.592      0.554   -2.55e-05    4.75e-05\n",
       "==============================================================================\n",
       "Omnibus:                      850.063   Durbin-Watson:                   2.027\n",
       "Prob(Omnibus):                  0.000   Jarque-Bera (JB):               88.011\n",
       "Skew:                          -0.005   Prob(JB):                     7.74e-20\n",
       "Kurtosis:                       1.851   Cond. No.                     9.15e+05\n",
       "==============================================================================\n",
       "\n",
       "Notes:\n",
       "[1] Standard Errors assume that the covariance matrix of the errors is correctly specified.\n",
       "[2] The condition number is large, 9.15e+05. This might indicate that there are\n",
       "strong multicollinearity or other numerical problems.\n",
       "\"\"\""
      ],
      "text/html": "<table class=\"simpletable\">\n<caption>OLS Regression Results</caption>\n<tr>\n  <th>Dep. Variable:</th>      <td>14_happiness</td>   <th>  R-squared:         </th> <td>   0.830</td>\n</tr>\n<tr>\n  <th>Model:</th>                   <td>OLS</td>       <th>  Adj. R-squared:    </th> <td>   0.828</td>\n</tr>\n<tr>\n  <th>Method:</th>             <td>Least Squares</td>  <th>  F-statistic:       </th> <td>   552.3</td>\n</tr>\n<tr>\n  <th>Date:</th>             <td>Thu, 22 Apr 2021</td> <th>  Prob (F-statistic):</th>  <td>  0.00</td> \n</tr>\n<tr>\n  <th>Time:</th>                 <td>20:14:43</td>     <th>  Log-Likelihood:    </th> <td> -3439.7</td>\n</tr>\n<tr>\n  <th>No. Observations:</th>      <td>  1600</td>      <th>  AIC:               </th> <td>   6909.</td>\n</tr>\n<tr>\n  <th>Df Residuals:</th>          <td>  1585</td>      <th>  BIC:               </th> <td>   6990.</td>\n</tr>\n<tr>\n  <th>Df Model:</th>              <td>    14</td>      <th>                     </th>     <td> </td>   \n</tr>\n<tr>\n  <th>Covariance Type:</th>      <td>nonrobust</td>    <th>                     </th>     <td> </td>   \n</tr>\n</table>\n<table class=\"simpletable\">\n<tr>\n         <td></td>            <th>coef</th>     <th>std err</th>      <th>t</th>      <th>P>|t|</th>  <th>[0.025</th>    <th>0.975]</th>  \n</tr>\n<tr>\n  <th>const</th>           <td>   24.1652</td> <td>    0.828</td> <td>   29.171</td> <td> 0.000</td> <td>   22.540</td> <td>   25.790</td>\n</tr>\n<tr>\n  <th>0_female</th>        <td>   -0.0321</td> <td>    0.169</td> <td>   -0.190</td> <td> 0.850</td> <td>   -0.363</td> <td>    0.299</td>\n</tr>\n<tr>\n  <th>1_age</th>           <td>    0.0075</td> <td>    0.003</td> <td>    2.529</td> <td> 0.012</td> <td>    0.002</td> <td>    0.013</td>\n</tr>\n<tr>\n  <th>2_num_chronic</th>   <td>   -0.4148</td> <td>    0.031</td> <td>  -13.522</td> <td> 0.000</td> <td>   -0.475</td> <td>   -0.355</td>\n</tr>\n<tr>\n  <th>3_married</th>       <td>    6.3367</td> <td>    0.146</td> <td>   43.254</td> <td> 0.000</td> <td>    6.049</td> <td>    6.624</td>\n</tr>\n<tr>\n  <th>4_urban</th>         <td>   -1.1363</td> <td>    0.130</td> <td>   -8.732</td> <td> 0.000</td> <td>   -1.392</td> <td>   -0.881</td>\n</tr>\n<tr>\n  <th>5_hours_tv</th>      <td>   -0.0699</td> <td>    0.014</td> <td>   -5.177</td> <td> 0.000</td> <td>   -0.096</td> <td>   -0.043</td>\n</tr>\n<tr>\n  <th>6_hours_sm</th>      <td>   -0.1658</td> <td>    0.027</td> <td>   -6.210</td> <td> 0.000</td> <td>   -0.218</td> <td>   -0.113</td>\n</tr>\n<tr>\n  <th>7_num_sunny</th>     <td>    0.0013</td> <td>    0.003</td> <td>    0.491</td> <td> 0.624</td> <td>   -0.004</td> <td>    0.006</td>\n</tr>\n<tr>\n  <th>8_avg_temp</th>      <td>   -0.0018</td> <td>    0.011</td> <td>   -0.171</td> <td> 0.864</td> <td>   -0.023</td> <td>    0.019</td>\n</tr>\n<tr>\n  <th>9_close_friends</th> <td>    0.5227</td> <td>    0.025</td> <td>   20.941</td> <td> 0.000</td> <td>    0.474</td> <td>    0.572</td>\n</tr>\n<tr>\n  <th>10_worship_days</th> <td>    0.0618</td> <td>    0.002</td> <td>   35.345</td> <td> 0.000</td> <td>    0.058</td> <td>    0.065</td>\n</tr>\n<tr>\n  <th>11_years_edu</th>    <td>    0.0414</td> <td>    0.021</td> <td>    1.953</td> <td> 0.051</td> <td>   -0.000</td> <td>    0.083</td>\n</tr>\n<tr>\n  <th>12_employed_ft</th>  <td>    3.4241</td> <td>    0.581</td> <td>    5.891</td> <td> 0.000</td> <td>    2.284</td> <td>    4.564</td>\n</tr>\n<tr>\n  <th>13_income</th>       <td> 1.101e-05</td> <td> 1.86e-05</td> <td>    0.592</td> <td> 0.554</td> <td>-2.55e-05</td> <td> 4.75e-05</td>\n</tr>\n</table>\n<table class=\"simpletable\">\n<tr>\n  <th>Omnibus:</th>       <td>850.063</td> <th>  Durbin-Watson:     </th> <td>   2.027</td>\n</tr>\n<tr>\n  <th>Prob(Omnibus):</th> <td> 0.000</td>  <th>  Jarque-Bera (JB):  </th> <td>  88.011</td>\n</tr>\n<tr>\n  <th>Skew:</th>          <td>-0.005</td>  <th>  Prob(JB):          </th> <td>7.74e-20</td>\n</tr>\n<tr>\n  <th>Kurtosis:</th>      <td> 1.851</td>  <th>  Cond. No.          </th> <td>9.15e+05</td>\n</tr>\n</table><br/><br/>Notes:<br/>[1] Standard Errors assume that the covariance matrix of the errors is correctly specified.<br/>[2] The condition number is large, 9.15e+05. This might indicate that there are<br/>strong multicollinearity or other numerical problems."
     },
     "metadata": {},
     "execution_count": 23
    }
   ],
   "source": [
    "happiness_iv_list = df.iloc[:,0:14]\n",
    "happiness_dv = df.iloc[:,14]\n",
    "\n",
    "y = happiness_dv\n",
    "x = happiness_iv_list\n",
    "x = sm.add_constant(x)\n",
    "output = sm.OLS(y, x)\n",
    "happiness_results = output.fit()\n",
    "happiness_results.summary()"
   ]
  },
  {
   "cell_type": "code",
   "execution_count": 24,
   "metadata": {},
   "outputs": [
    {
     "output_type": "execute_result",
     "data": {
      "text/plain": [
       "           0_female      1_age 2_num_chronic 3_married   4_urban 5_hours_tv  \\\n",
       "mean         0.4875  49.509375      2.454375  0.475625  0.703125    10.0795   \n",
       "weight            0       0.02         -0.05      0.15     -0.05      -0.03   \n",
       "multiplier      0.0   0.000202     -0.010186  0.157687 -0.035556  -0.001488   \n",
       "\n",
       "           6_hours_sm 7_num_sunny 8_avg_temp 9_close_friends 10_worship_days  \\\n",
       "mean          5.07375     120.625  55.052812          3.7375       47.451875   \n",
       "weight          -0.05        0.02       0.01             0.1            0.15   \n",
       "multiplier  -0.004927    0.000083   0.000091        0.013378        0.001581   \n",
       "\n",
       "           11_years_edu 12_employed_ft     13_income 14_happiness  \\\n",
       "mean           15.38875       0.733125  51978.809375          NaN   \n",
       "weight             0.03           0.12          0.04          NaN   \n",
       "multiplier     0.000975       0.081841           0.0          NaN   \n",
       "\n",
       "           15_unexplained  \n",
       "mean                  NaN  \n",
       "weight               0.18  \n",
       "multiplier            NaN  "
      ],
      "text/html": "<div>\n<style scoped>\n    .dataframe tbody tr th:only-of-type {\n        vertical-align: middle;\n    }\n\n    .dataframe tbody tr th {\n        vertical-align: top;\n    }\n\n    .dataframe thead th {\n        text-align: right;\n    }\n</style>\n<table border=\"1\" class=\"dataframe\">\n  <thead>\n    <tr style=\"text-align: right;\">\n      <th></th>\n      <th>0_female</th>\n      <th>1_age</th>\n      <th>2_num_chronic</th>\n      <th>3_married</th>\n      <th>4_urban</th>\n      <th>5_hours_tv</th>\n      <th>6_hours_sm</th>\n      <th>7_num_sunny</th>\n      <th>8_avg_temp</th>\n      <th>9_close_friends</th>\n      <th>10_worship_days</th>\n      <th>11_years_edu</th>\n      <th>12_employed_ft</th>\n      <th>13_income</th>\n      <th>14_happiness</th>\n      <th>15_unexplained</th>\n    </tr>\n  </thead>\n  <tbody>\n    <tr>\n      <th>mean</th>\n      <td>0.4875</td>\n      <td>49.509375</td>\n      <td>2.454375</td>\n      <td>0.475625</td>\n      <td>0.703125</td>\n      <td>10.0795</td>\n      <td>5.07375</td>\n      <td>120.625</td>\n      <td>55.052812</td>\n      <td>3.7375</td>\n      <td>47.451875</td>\n      <td>15.38875</td>\n      <td>0.733125</td>\n      <td>51978.809375</td>\n      <td>NaN</td>\n      <td>NaN</td>\n    </tr>\n    <tr>\n      <th>weight</th>\n      <td>0</td>\n      <td>0.02</td>\n      <td>-0.05</td>\n      <td>0.15</td>\n      <td>-0.05</td>\n      <td>-0.03</td>\n      <td>-0.05</td>\n      <td>0.02</td>\n      <td>0.01</td>\n      <td>0.1</td>\n      <td>0.15</td>\n      <td>0.03</td>\n      <td>0.12</td>\n      <td>0.04</td>\n      <td>NaN</td>\n      <td>0.18</td>\n    </tr>\n    <tr>\n      <th>multiplier</th>\n      <td>0.0</td>\n      <td>0.000202</td>\n      <td>-0.010186</td>\n      <td>0.157687</td>\n      <td>-0.035556</td>\n      <td>-0.001488</td>\n      <td>-0.004927</td>\n      <td>0.000083</td>\n      <td>0.000091</td>\n      <td>0.013378</td>\n      <td>0.001581</td>\n      <td>0.000975</td>\n      <td>0.081841</td>\n      <td>0.0</td>\n      <td>NaN</td>\n      <td>NaN</td>\n    </tr>\n  </tbody>\n</table>\n</div>"
     },
     "metadata": {},
     "execution_count": 24
    }
   ],
   "source": [
    "df_weights_2"
   ]
  },
  {
   "source": [
    "Having created a regression based off the data, we can now compare the coefficients generated by the regression to the weights assigned when building the DataFrame to see if the relationship is similar across variables. Ideally, we would like to find a ratio close to or equal to 1 between the coefficient and the specified weights (which would indicate that changing the specified weights causes an equivalent change in the regression coefficients). \n",
    "\n",
    "After a fair amount of experimenting, I found that the regression weight for a variable is roughly equal to the variable's regression coefficient \\* its mean \\* 2 / the 'formula multiple', or the amount it was multiplied by when creating the variable values (e.g. 40 in the case of the happiness variables). However, this ratio only works in cases where the variable was given a weight, and is less accurate when (A) there is lots of uncertainty in the model, and/or (B) the regression weight is particularly small.\n",
    "\n",
    "As part of the dependent variable value calculation process, each independent variable weight was divided by its mean, then divided by 2, and then multiplied by a particular value.\\* Therefore, it makes sense that, by multiplying a variable's regresion coefficient by 2, then multiplying it by its mean and dividing it by the formula multiple, I would arrive back at a number close to that variable's weight; after all, that calculation is essentially the reverse of the previous calculation.\n",
    "\n",
    "\\*I believe the result of this calculation to be similar to a regression coeficient, which measures how much the dependent variable is expected to change as a result of a change in an independent variable. After all, both these values and regression coefficients can be multiplied by an independent variable to create a predicted change in the dependent variable.\n",
    "\n",
    "\n"
   ],
   "cell_type": "markdown",
   "metadata": {}
  },
  {
   "cell_type": "code",
   "execution_count": 25,
   "metadata": {},
   "outputs": [
    {
     "output_type": "stream",
     "name": "stderr",
     "text": [
      "<ipython-input-25-a8ec3c3a4f63>:16: RuntimeWarning: divide by zero encountered in double_scalars\n  df_results.loc[df_results.index[i],'ratio'] = df_results.loc[df_results.index[i],'coeff*mean*2/multiple']/df_results.loc[df_results.index[i],'weight']\n"
     ]
    },
    {
     "output_type": "execute_result",
     "data": {
      "text/plain": [
       "                     coeff          mean  weight  coeff*mean*2/multiple  \\\n",
       "const            24.165213      0.000000    0.00               0.000000   \n",
       "0_female         -0.032052      0.487500    0.00              -0.000781   \n",
       "1_age             0.007532     49.509375    0.02               0.018644   \n",
       "2_num_chronic    -0.414752      2.454375   -0.05              -0.050898   \n",
       "3_married         6.336714      0.475625    0.15               0.150695   \n",
       "4_urban          -1.136335      0.703125   -0.05              -0.039949   \n",
       "5_hours_tv       -0.069941     10.079500   -0.03              -0.035248   \n",
       "6_hours_sm       -0.165802      5.073750   -0.05              -0.042062   \n",
       "7_num_sunny       0.001278    120.625000    0.02               0.007708   \n",
       "8_avg_temp       -0.001818     55.052812    0.01              -0.005005   \n",
       "9_close_friends   0.522709      3.737500    0.10               0.097681   \n",
       "10_worship_days   0.061830     47.451875    0.15               0.146698   \n",
       "11_years_edu      0.041405     15.388750    0.03               0.031858   \n",
       "12_employed_ft    3.424141      0.733125    0.12               0.125516   \n",
       "13_income         0.000011  51978.809375    0.04               0.028602   \n",
       "\n",
       "                    ratio  \n",
       "const            0.000000  \n",
       "0_female             -inf  \n",
       "1_age            0.932212  \n",
       "2_num_chronic    1.017956  \n",
       "3_married        1.004633  \n",
       "4_urban          0.798986  \n",
       "5_hours_tv       1.174945  \n",
       "6_hours_sm       0.841239  \n",
       "7_num_sunny      0.385385  \n",
       "8_avg_temp      -0.500531  \n",
       "9_close_friends  0.976812  \n",
       "10_worship_days  0.977986  \n",
       "11_years_edu     1.061945  \n",
       "12_employed_ft   1.045968  \n",
       "13_income        0.715038  "
      ],
      "text/html": "<div>\n<style scoped>\n    .dataframe tbody tr th:only-of-type {\n        vertical-align: middle;\n    }\n\n    .dataframe tbody tr th {\n        vertical-align: top;\n    }\n\n    .dataframe thead th {\n        text-align: right;\n    }\n</style>\n<table border=\"1\" class=\"dataframe\">\n  <thead>\n    <tr style=\"text-align: right;\">\n      <th></th>\n      <th>coeff</th>\n      <th>mean</th>\n      <th>weight</th>\n      <th>coeff*mean*2/multiple</th>\n      <th>ratio</th>\n    </tr>\n  </thead>\n  <tbody>\n    <tr>\n      <th>const</th>\n      <td>24.165213</td>\n      <td>0.000000</td>\n      <td>0.00</td>\n      <td>0.000000</td>\n      <td>0.000000</td>\n    </tr>\n    <tr>\n      <th>0_female</th>\n      <td>-0.032052</td>\n      <td>0.487500</td>\n      <td>0.00</td>\n      <td>-0.000781</td>\n      <td>-inf</td>\n    </tr>\n    <tr>\n      <th>1_age</th>\n      <td>0.007532</td>\n      <td>49.509375</td>\n      <td>0.02</td>\n      <td>0.018644</td>\n      <td>0.932212</td>\n    </tr>\n    <tr>\n      <th>2_num_chronic</th>\n      <td>-0.414752</td>\n      <td>2.454375</td>\n      <td>-0.05</td>\n      <td>-0.050898</td>\n      <td>1.017956</td>\n    </tr>\n    <tr>\n      <th>3_married</th>\n      <td>6.336714</td>\n      <td>0.475625</td>\n      <td>0.15</td>\n      <td>0.150695</td>\n      <td>1.004633</td>\n    </tr>\n    <tr>\n      <th>4_urban</th>\n      <td>-1.136335</td>\n      <td>0.703125</td>\n      <td>-0.05</td>\n      <td>-0.039949</td>\n      <td>0.798986</td>\n    </tr>\n    <tr>\n      <th>5_hours_tv</th>\n      <td>-0.069941</td>\n      <td>10.079500</td>\n      <td>-0.03</td>\n      <td>-0.035248</td>\n      <td>1.174945</td>\n    </tr>\n    <tr>\n      <th>6_hours_sm</th>\n      <td>-0.165802</td>\n      <td>5.073750</td>\n      <td>-0.05</td>\n      <td>-0.042062</td>\n      <td>0.841239</td>\n    </tr>\n    <tr>\n      <th>7_num_sunny</th>\n      <td>0.001278</td>\n      <td>120.625000</td>\n      <td>0.02</td>\n      <td>0.007708</td>\n      <td>0.385385</td>\n    </tr>\n    <tr>\n      <th>8_avg_temp</th>\n      <td>-0.001818</td>\n      <td>55.052812</td>\n      <td>0.01</td>\n      <td>-0.005005</td>\n      <td>-0.500531</td>\n    </tr>\n    <tr>\n      <th>9_close_friends</th>\n      <td>0.522709</td>\n      <td>3.737500</td>\n      <td>0.10</td>\n      <td>0.097681</td>\n      <td>0.976812</td>\n    </tr>\n    <tr>\n      <th>10_worship_days</th>\n      <td>0.061830</td>\n      <td>47.451875</td>\n      <td>0.15</td>\n      <td>0.146698</td>\n      <td>0.977986</td>\n    </tr>\n    <tr>\n      <th>11_years_edu</th>\n      <td>0.041405</td>\n      <td>15.388750</td>\n      <td>0.03</td>\n      <td>0.031858</td>\n      <td>1.061945</td>\n    </tr>\n    <tr>\n      <th>12_employed_ft</th>\n      <td>3.424141</td>\n      <td>0.733125</td>\n      <td>0.12</td>\n      <td>0.125516</td>\n      <td>1.045968</td>\n    </tr>\n    <tr>\n      <th>13_income</th>\n      <td>0.000011</td>\n      <td>51978.809375</td>\n      <td>0.04</td>\n      <td>0.028602</td>\n      <td>0.715038</td>\n    </tr>\n  </tbody>\n</table>\n</div>"
     },
     "metadata": {},
     "execution_count": 25
    }
   ],
   "source": [
    "def compare_weights_and_coefficients(reg_results,weights_df,multiple): # Multiple = the amount by which the original values were multiplied during their initialization. In the case of the happiness variables, the multiplier was 40.\n",
    "    df_results = pd.DataFrame(reg_results.params)\n",
    "    df_results.columns=['coeff']\n",
    "    df_results['mean']=0\n",
    "    for i in range(1,len(df_results)):\n",
    "        df_results.loc[df_results.index[i],'mean'] = weights_df.iloc[0,i-1] # This method of combining row numbers and column names when selecting data comes from https://pandas.pydata.org/pandas-docs/stable/user_guide/indexing.html#combining-positional-and-label-based-indexing\n",
    "    df_results['weight'] = 0\n",
    "    for i in range(1,len(df_results)):\n",
    "        df_results.loc[df_results.index[i],'weight'] = weights_df.iloc[1,i-1]\n",
    "    df_results['coeff*mean*2/multiple']=0\n",
    "    # The following for loop will now calculate the product of the coefficient in df_results * the weight of that coefficient's variable *2.\n",
    "    for i in range(1,len(df_results)): #The loop starts at 1 in order to skip the const variable.\n",
    "        df_results.loc[df_results.index[i],'coeff*mean*2/multiple'] = df_results.loc[df_results.index[i],'coeff']*2*df_results.loc[df_results.index[i],'mean']/multiple # i-1 is used in weights_df.iloc to return the variable to the left of i, which matches the variable listed in the current row of df_happiness_results.\n",
    "    df_results['ratio']=0 # The 'ratio' column displays the quotient of the coeff*mean*2/multiple column and the weight column for each variable. \n",
    "    for i in range (1, len(df_results)):\n",
    "        df_results.loc[df_results.index[i],'ratio'] = df_results.loc[df_results.index[i],'coeff*mean*2/multiple']/df_results.loc[df_results.index[i],'weight']\n",
    "    return df_results\n",
    "\n",
    "df_happiness_results = compare_weights_and_coefficients(happiness_results, df_weights_2, 40)\n",
    "\n",
    "df_happiness_results"
   ]
  },
  {
   "cell_type": "code",
   "execution_count": 26,
   "metadata": {},
   "outputs": [
    {
     "output_type": "execute_result",
     "data": {
      "text/plain": [
       "<class 'statsmodels.iolib.summary.Summary'>\n",
       "\"\"\"\n",
       "                            OLS Regression Results                            \n",
       "==============================================================================\n",
       "Dep. Variable:              13_income   R-squared:                       0.964\n",
       "Model:                            OLS   Adj. R-squared:                  0.964\n",
       "Method:                 Least Squares   F-statistic:                     3312.\n",
       "Date:                Thu, 22 Apr 2021   Prob (F-statistic):               0.00\n",
       "Time:                        20:14:44   Log-Likelihood:                -14974.\n",
       "No. Observations:                1600   AIC:                         2.998e+04\n",
       "Df Residuals:                    1586   BIC:                         3.005e+04\n",
       "Df Model:                          13                                         \n",
       "Covariance Type:            nonrobust                                         \n",
       "===================================================================================\n",
       "                      coef    std err          t      P>|t|      [0.025      0.975]\n",
       "-----------------------------------------------------------------------------------\n",
       "const            1.878e+04   1014.951     18.500      0.000    1.68e+04    2.08e+04\n",
       "0_female        -5319.9862    185.012    -28.755      0.000   -5682.880   -4957.092\n",
       "1_age               4.0069      4.021      0.996      0.319      -3.881      11.894\n",
       "2_num_chronic    -134.3558     41.298     -3.253      0.001    -215.361     -53.351\n",
       "3_married        5514.6226    141.403     38.999      0.000    5237.267    5791.978\n",
       "4_urban          3336.3785    154.552     21.587      0.000    3033.232    3639.525\n",
       "5_hours_tv       -147.4635     17.872     -8.251      0.000    -182.518    -112.409\n",
       "6_hours_sm       -210.3006     35.682     -5.894      0.000    -280.289    -140.312\n",
       "7_num_sunny        -1.7655      3.519     -0.502      0.616      -8.668       5.137\n",
       "8_avg_temp        -17.4891     14.354     -1.218      0.223     -45.644      10.666\n",
       "9_close_friends    37.1542     33.707      1.102      0.271     -28.961     103.270\n",
       "10_worship_days    -0.7669      2.363     -0.325      0.746      -5.402       3.868\n",
       "11_years_edu      788.9223     20.685     38.141      0.000     748.351     829.494\n",
       "12_employed_ft   3.061e+04    160.056    191.275      0.000    3.03e+04    3.09e+04\n",
       "==============================================================================\n",
       "Omnibus:                      729.943   Durbin-Watson:                   1.957\n",
       "Prob(Omnibus):                  0.000   Jarque-Bera (JB):               84.651\n",
       "Skew:                           0.016   Prob(JB):                     4.15e-19\n",
       "Kurtosis:                       1.874   Cond. No.                     2.19e+03\n",
       "==============================================================================\n",
       "\n",
       "Notes:\n",
       "[1] Standard Errors assume that the covariance matrix of the errors is correctly specified.\n",
       "[2] The condition number is large, 2.19e+03. This might indicate that there are\n",
       "strong multicollinearity or other numerical problems.\n",
       "\"\"\""
      ],
      "text/html": "<table class=\"simpletable\">\n<caption>OLS Regression Results</caption>\n<tr>\n  <th>Dep. Variable:</th>        <td>13_income</td>    <th>  R-squared:         </th> <td>   0.964</td> \n</tr>\n<tr>\n  <th>Model:</th>                   <td>OLS</td>       <th>  Adj. R-squared:    </th> <td>   0.964</td> \n</tr>\n<tr>\n  <th>Method:</th>             <td>Least Squares</td>  <th>  F-statistic:       </th> <td>   3312.</td> \n</tr>\n<tr>\n  <th>Date:</th>             <td>Thu, 22 Apr 2021</td> <th>  Prob (F-statistic):</th>  <td>  0.00</td>  \n</tr>\n<tr>\n  <th>Time:</th>                 <td>20:14:44</td>     <th>  Log-Likelihood:    </th> <td> -14974.</td> \n</tr>\n<tr>\n  <th>No. Observations:</th>      <td>  1600</td>      <th>  AIC:               </th> <td>2.998e+04</td>\n</tr>\n<tr>\n  <th>Df Residuals:</th>          <td>  1586</td>      <th>  BIC:               </th> <td>3.005e+04</td>\n</tr>\n<tr>\n  <th>Df Model:</th>              <td>    13</td>      <th>                     </th>     <td> </td>    \n</tr>\n<tr>\n  <th>Covariance Type:</th>      <td>nonrobust</td>    <th>                     </th>     <td> </td>    \n</tr>\n</table>\n<table class=\"simpletable\">\n<tr>\n         <td></td>            <th>coef</th>     <th>std err</th>      <th>t</th>      <th>P>|t|</th>  <th>[0.025</th>    <th>0.975]</th>  \n</tr>\n<tr>\n  <th>const</th>           <td> 1.878e+04</td> <td> 1014.951</td> <td>   18.500</td> <td> 0.000</td> <td> 1.68e+04</td> <td> 2.08e+04</td>\n</tr>\n<tr>\n  <th>0_female</th>        <td>-5319.9862</td> <td>  185.012</td> <td>  -28.755</td> <td> 0.000</td> <td>-5682.880</td> <td>-4957.092</td>\n</tr>\n<tr>\n  <th>1_age</th>           <td>    4.0069</td> <td>    4.021</td> <td>    0.996</td> <td> 0.319</td> <td>   -3.881</td> <td>   11.894</td>\n</tr>\n<tr>\n  <th>2_num_chronic</th>   <td> -134.3558</td> <td>   41.298</td> <td>   -3.253</td> <td> 0.001</td> <td> -215.361</td> <td>  -53.351</td>\n</tr>\n<tr>\n  <th>3_married</th>       <td> 5514.6226</td> <td>  141.403</td> <td>   38.999</td> <td> 0.000</td> <td> 5237.267</td> <td> 5791.978</td>\n</tr>\n<tr>\n  <th>4_urban</th>         <td> 3336.3785</td> <td>  154.552</td> <td>   21.587</td> <td> 0.000</td> <td> 3033.232</td> <td> 3639.525</td>\n</tr>\n<tr>\n  <th>5_hours_tv</th>      <td> -147.4635</td> <td>   17.872</td> <td>   -8.251</td> <td> 0.000</td> <td> -182.518</td> <td> -112.409</td>\n</tr>\n<tr>\n  <th>6_hours_sm</th>      <td> -210.3006</td> <td>   35.682</td> <td>   -5.894</td> <td> 0.000</td> <td> -280.289</td> <td> -140.312</td>\n</tr>\n<tr>\n  <th>7_num_sunny</th>     <td>   -1.7655</td> <td>    3.519</td> <td>   -0.502</td> <td> 0.616</td> <td>   -8.668</td> <td>    5.137</td>\n</tr>\n<tr>\n  <th>8_avg_temp</th>      <td>  -17.4891</td> <td>   14.354</td> <td>   -1.218</td> <td> 0.223</td> <td>  -45.644</td> <td>   10.666</td>\n</tr>\n<tr>\n  <th>9_close_friends</th> <td>   37.1542</td> <td>   33.707</td> <td>    1.102</td> <td> 0.271</td> <td>  -28.961</td> <td>  103.270</td>\n</tr>\n<tr>\n  <th>10_worship_days</th> <td>   -0.7669</td> <td>    2.363</td> <td>   -0.325</td> <td> 0.746</td> <td>   -5.402</td> <td>    3.868</td>\n</tr>\n<tr>\n  <th>11_years_edu</th>    <td>  788.9223</td> <td>   20.685</td> <td>   38.141</td> <td> 0.000</td> <td>  748.351</td> <td>  829.494</td>\n</tr>\n<tr>\n  <th>12_employed_ft</th>  <td> 3.061e+04</td> <td>  160.056</td> <td>  191.275</td> <td> 0.000</td> <td> 3.03e+04</td> <td> 3.09e+04</td>\n</tr>\n</table>\n<table class=\"simpletable\">\n<tr>\n  <th>Omnibus:</th>       <td>729.943</td> <th>  Durbin-Watson:     </th> <td>   1.957</td>\n</tr>\n<tr>\n  <th>Prob(Omnibus):</th> <td> 0.000</td>  <th>  Jarque-Bera (JB):  </th> <td>  84.651</td>\n</tr>\n<tr>\n  <th>Skew:</th>          <td> 0.016</td>  <th>  Prob(JB):          </th> <td>4.15e-19</td>\n</tr>\n<tr>\n  <th>Kurtosis:</th>      <td> 1.874</td>  <th>  Cond. No.          </th> <td>2.19e+03</td>\n</tr>\n</table><br/><br/>Notes:<br/>[1] Standard Errors assume that the covariance matrix of the errors is correctly specified.<br/>[2] The condition number is large, 2.19e+03. This might indicate that there are<br/>strong multicollinearity or other numerical problems."
     },
     "metadata": {},
     "execution_count": 26
    }
   ],
   "source": [
    "income_iv_list = df.iloc[:,0:13]\n",
    "income_dv = df.iloc[:,13]\n",
    "\n",
    "y = income_dv\n",
    "x = income_iv_list\n",
    "x = sm.add_constant(x)\n",
    "output = sm.OLS(y, x)\n",
    "income_results = output.fit()\n",
    "income_results.summary()"
   ]
  },
  {
   "cell_type": "code",
   "execution_count": 27,
   "metadata": {},
   "outputs": [
    {
     "output_type": "stream",
     "name": "stderr",
     "text": [
      "<ipython-input-25-a8ec3c3a4f63>:16: RuntimeWarning: divide by zero encountered in double_scalars\n  df_results.loc[df_results.index[i],'ratio'] = df_results.loc[df_results.index[i],'coeff*mean*2/multiple']/df_results.loc[df_results.index[i],'weight']\n"
     ]
    },
    {
     "output_type": "execute_result",
     "data": {
      "text/plain": [
       "                        coeff        mean  weight  coeff*mean*2/multiple  \\\n",
       "const            18776.629228    0.000000    0.00               0.000000   \n",
       "0_female         -5319.986160    0.487500   -0.05              -0.051870   \n",
       "1_age                4.006905   49.509375    0.00               0.003968   \n",
       "2_num_chronic     -134.355792    2.454375    0.00              -0.006595   \n",
       "3_married         5514.622612    0.475625    0.05               0.052458   \n",
       "4_urban           3336.378470    0.703125    0.05               0.046918   \n",
       "5_hours_tv        -147.463532   10.079500   -0.03              -0.029727   \n",
       "6_hours_sm        -210.300647    5.073750   -0.02              -0.021340   \n",
       "7_num_sunny         -1.765484  120.625000    0.00              -0.004259   \n",
       "8_avg_temp         -17.489068   55.052812    0.00              -0.019256   \n",
       "9_close_friends     37.154221    3.737500    0.00               0.002777   \n",
       "10_worship_days     -0.766878   47.451875    0.00              -0.000728   \n",
       "11_years_edu       788.922343   15.388750    0.25               0.242811   \n",
       "12_employed_ft   30614.728373    0.733125    0.45               0.448888   \n",
       "\n",
       "                    ratio  \n",
       "const            0.000000  \n",
       "0_female         1.037397  \n",
       "1_age                 inf  \n",
       "2_num_chronic        -inf  \n",
       "3_married        1.049157  \n",
       "4_urban          0.938356  \n",
       "5_hours_tv       0.990906  \n",
       "6_hours_sm       1.067013  \n",
       "7_num_sunny          -inf  \n",
       "8_avg_temp           -inf  \n",
       "9_close_friends       inf  \n",
       "10_worship_days      -inf  \n",
       "11_years_edu     0.971242  \n",
       "12_employed_ft   0.997530  "
      ],
      "text/html": "<div>\n<style scoped>\n    .dataframe tbody tr th:only-of-type {\n        vertical-align: middle;\n    }\n\n    .dataframe tbody tr th {\n        vertical-align: top;\n    }\n\n    .dataframe thead th {\n        text-align: right;\n    }\n</style>\n<table border=\"1\" class=\"dataframe\">\n  <thead>\n    <tr style=\"text-align: right;\">\n      <th></th>\n      <th>coeff</th>\n      <th>mean</th>\n      <th>weight</th>\n      <th>coeff*mean*2/multiple</th>\n      <th>ratio</th>\n    </tr>\n  </thead>\n  <tbody>\n    <tr>\n      <th>const</th>\n      <td>18776.629228</td>\n      <td>0.000000</td>\n      <td>0.00</td>\n      <td>0.000000</td>\n      <td>0.000000</td>\n    </tr>\n    <tr>\n      <th>0_female</th>\n      <td>-5319.986160</td>\n      <td>0.487500</td>\n      <td>-0.05</td>\n      <td>-0.051870</td>\n      <td>1.037397</td>\n    </tr>\n    <tr>\n      <th>1_age</th>\n      <td>4.006905</td>\n      <td>49.509375</td>\n      <td>0.00</td>\n      <td>0.003968</td>\n      <td>inf</td>\n    </tr>\n    <tr>\n      <th>2_num_chronic</th>\n      <td>-134.355792</td>\n      <td>2.454375</td>\n      <td>0.00</td>\n      <td>-0.006595</td>\n      <td>-inf</td>\n    </tr>\n    <tr>\n      <th>3_married</th>\n      <td>5514.622612</td>\n      <td>0.475625</td>\n      <td>0.05</td>\n      <td>0.052458</td>\n      <td>1.049157</td>\n    </tr>\n    <tr>\n      <th>4_urban</th>\n      <td>3336.378470</td>\n      <td>0.703125</td>\n      <td>0.05</td>\n      <td>0.046918</td>\n      <td>0.938356</td>\n    </tr>\n    <tr>\n      <th>5_hours_tv</th>\n      <td>-147.463532</td>\n      <td>10.079500</td>\n      <td>-0.03</td>\n      <td>-0.029727</td>\n      <td>0.990906</td>\n    </tr>\n    <tr>\n      <th>6_hours_sm</th>\n      <td>-210.300647</td>\n      <td>5.073750</td>\n      <td>-0.02</td>\n      <td>-0.021340</td>\n      <td>1.067013</td>\n    </tr>\n    <tr>\n      <th>7_num_sunny</th>\n      <td>-1.765484</td>\n      <td>120.625000</td>\n      <td>0.00</td>\n      <td>-0.004259</td>\n      <td>-inf</td>\n    </tr>\n    <tr>\n      <th>8_avg_temp</th>\n      <td>-17.489068</td>\n      <td>55.052812</td>\n      <td>0.00</td>\n      <td>-0.019256</td>\n      <td>-inf</td>\n    </tr>\n    <tr>\n      <th>9_close_friends</th>\n      <td>37.154221</td>\n      <td>3.737500</td>\n      <td>0.00</td>\n      <td>0.002777</td>\n      <td>inf</td>\n    </tr>\n    <tr>\n      <th>10_worship_days</th>\n      <td>-0.766878</td>\n      <td>47.451875</td>\n      <td>0.00</td>\n      <td>-0.000728</td>\n      <td>-inf</td>\n    </tr>\n    <tr>\n      <th>11_years_edu</th>\n      <td>788.922343</td>\n      <td>15.388750</td>\n      <td>0.25</td>\n      <td>0.242811</td>\n      <td>0.971242</td>\n    </tr>\n    <tr>\n      <th>12_employed_ft</th>\n      <td>30614.728373</td>\n      <td>0.733125</td>\n      <td>0.45</td>\n      <td>0.448888</td>\n      <td>0.997530</td>\n    </tr>\n  </tbody>\n</table>\n</div>"
     },
     "metadata": {},
     "execution_count": 27
    }
   ],
   "source": [
    "df_income_results = compare_weights_and_coefficients(income_results, df_weights_1, 100000)\n",
    "\n",
    "df_income_results"
   ]
  },
  {
   "cell_type": "code",
   "execution_count": 28,
   "metadata": {},
   "outputs": [],
   "source": [
    "df.to_csv(\"happiness_data.csv\")"
   ]
  },
  {
   "cell_type": "code",
   "execution_count": 29,
   "metadata": {},
   "outputs": [
    {
     "output_type": "execute_result",
     "data": {
      "text/plain": [
       "            0_female      1_age 2_num_chronic 3_married   4_urban 5_hours_tv  \\\n",
       "mean          0.4875  49.509375      2.454375  0.475625  0.703125    10.0795   \n",
       "weight         -0.05          0             0      0.05      0.05      -0.03   \n",
       "multiplier -0.051282        0.0           0.0  0.052562  0.035556  -0.001488   \n",
       "\n",
       "           6_hours_sm 7_num_sunny 8_avg_temp 9_close_friends 10_worship_days  \\\n",
       "mean          5.07375     120.625  55.052812          3.7375       47.451875   \n",
       "weight          -0.02           0          0               0               0   \n",
       "multiplier  -0.001971         0.0        0.0             0.0             0.0   \n",
       "\n",
       "           11_years_edu 12_employed_ft 13_income 14_happiness 15_unexplained  \n",
       "mean           15.38875       0.733125       NaN          NaN            NaN  \n",
       "weight             0.25           0.45       NaN          NaN            0.1  \n",
       "multiplier     0.008123       0.306905       NaN          NaN            NaN  "
      ],
      "text/html": "<div>\n<style scoped>\n    .dataframe tbody tr th:only-of-type {\n        vertical-align: middle;\n    }\n\n    .dataframe tbody tr th {\n        vertical-align: top;\n    }\n\n    .dataframe thead th {\n        text-align: right;\n    }\n</style>\n<table border=\"1\" class=\"dataframe\">\n  <thead>\n    <tr style=\"text-align: right;\">\n      <th></th>\n      <th>0_female</th>\n      <th>1_age</th>\n      <th>2_num_chronic</th>\n      <th>3_married</th>\n      <th>4_urban</th>\n      <th>5_hours_tv</th>\n      <th>6_hours_sm</th>\n      <th>7_num_sunny</th>\n      <th>8_avg_temp</th>\n      <th>9_close_friends</th>\n      <th>10_worship_days</th>\n      <th>11_years_edu</th>\n      <th>12_employed_ft</th>\n      <th>13_income</th>\n      <th>14_happiness</th>\n      <th>15_unexplained</th>\n    </tr>\n  </thead>\n  <tbody>\n    <tr>\n      <th>mean</th>\n      <td>0.4875</td>\n      <td>49.509375</td>\n      <td>2.454375</td>\n      <td>0.475625</td>\n      <td>0.703125</td>\n      <td>10.0795</td>\n      <td>5.07375</td>\n      <td>120.625</td>\n      <td>55.052812</td>\n      <td>3.7375</td>\n      <td>47.451875</td>\n      <td>15.38875</td>\n      <td>0.733125</td>\n      <td>NaN</td>\n      <td>NaN</td>\n      <td>NaN</td>\n    </tr>\n    <tr>\n      <th>weight</th>\n      <td>-0.05</td>\n      <td>0</td>\n      <td>0</td>\n      <td>0.05</td>\n      <td>0.05</td>\n      <td>-0.03</td>\n      <td>-0.02</td>\n      <td>0</td>\n      <td>0</td>\n      <td>0</td>\n      <td>0</td>\n      <td>0.25</td>\n      <td>0.45</td>\n      <td>NaN</td>\n      <td>NaN</td>\n      <td>0.1</td>\n    </tr>\n    <tr>\n      <th>multiplier</th>\n      <td>-0.051282</td>\n      <td>0.0</td>\n      <td>0.0</td>\n      <td>0.052562</td>\n      <td>0.035556</td>\n      <td>-0.001488</td>\n      <td>-0.001971</td>\n      <td>0.0</td>\n      <td>0.0</td>\n      <td>0.0</td>\n      <td>0.0</td>\n      <td>0.008123</td>\n      <td>0.306905</td>\n      <td>NaN</td>\n      <td>NaN</td>\n      <td>NaN</td>\n    </tr>\n  </tbody>\n</table>\n</div>"
     },
     "metadata": {},
     "execution_count": 29
    }
   ],
   "source": [
    "df_weights_1"
   ]
  },
  {
   "cell_type": "code",
   "execution_count": null,
   "metadata": {},
   "outputs": [],
   "source": []
  }
 ]
}